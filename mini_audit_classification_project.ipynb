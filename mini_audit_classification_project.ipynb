{
 "cells": [
  {
   "cell_type": "code",
   "execution_count": 213,
   "id": "78f65e70-2611-499c-ad35-9b9d28891561",
   "metadata": {},
   "outputs": [
    {
     "data": {
      "text/html": [
       "<div>\n",
       "<style scoped>\n",
       "    .dataframe tbody tr th:only-of-type {\n",
       "        vertical-align: middle;\n",
       "    }\n",
       "\n",
       "    .dataframe tbody tr th {\n",
       "        vertical-align: top;\n",
       "    }\n",
       "\n",
       "    .dataframe thead th {\n",
       "        text-align: right;\n",
       "    }\n",
       "</style>\n",
       "<table border=\"1\" class=\"dataframe\">\n",
       "  <thead>\n",
       "    <tr style=\"text-align: right;\">\n",
       "      <th></th>\n",
       "      <th>Sector_score</th>\n",
       "      <th>LOCATION_ID</th>\n",
       "      <th>PARA_A</th>\n",
       "      <th>SCORE_A</th>\n",
       "      <th>PARA_B</th>\n",
       "      <th>SCORE_B</th>\n",
       "      <th>TOTAL</th>\n",
       "      <th>numbers</th>\n",
       "      <th>Marks</th>\n",
       "      <th>Money_Value</th>\n",
       "      <th>MONEY_Marks</th>\n",
       "      <th>District</th>\n",
       "      <th>Loss</th>\n",
       "      <th>LOSS_SCORE</th>\n",
       "      <th>History</th>\n",
       "      <th>History_score</th>\n",
       "      <th>Score</th>\n",
       "      <th>Risk</th>\n",
       "    </tr>\n",
       "  </thead>\n",
       "  <tbody>\n",
       "    <tr>\n",
       "      <th>0</th>\n",
       "      <td>3.89</td>\n",
       "      <td>23</td>\n",
       "      <td>4.18</td>\n",
       "      <td>6</td>\n",
       "      <td>2.50</td>\n",
       "      <td>2</td>\n",
       "      <td>6.68</td>\n",
       "      <td>5.0</td>\n",
       "      <td>2</td>\n",
       "      <td>3.38</td>\n",
       "      <td>2</td>\n",
       "      <td>2</td>\n",
       "      <td>0</td>\n",
       "      <td>2</td>\n",
       "      <td>0</td>\n",
       "      <td>2</td>\n",
       "      <td>2.4</td>\n",
       "      <td>1</td>\n",
       "    </tr>\n",
       "    <tr>\n",
       "      <th>1</th>\n",
       "      <td>3.89</td>\n",
       "      <td>6</td>\n",
       "      <td>0.00</td>\n",
       "      <td>2</td>\n",
       "      <td>4.83</td>\n",
       "      <td>2</td>\n",
       "      <td>4.83</td>\n",
       "      <td>5.0</td>\n",
       "      <td>2</td>\n",
       "      <td>0.94</td>\n",
       "      <td>2</td>\n",
       "      <td>2</td>\n",
       "      <td>0</td>\n",
       "      <td>2</td>\n",
       "      <td>0</td>\n",
       "      <td>2</td>\n",
       "      <td>2.0</td>\n",
       "      <td>0</td>\n",
       "    </tr>\n",
       "    <tr>\n",
       "      <th>2</th>\n",
       "      <td>3.89</td>\n",
       "      <td>6</td>\n",
       "      <td>0.51</td>\n",
       "      <td>2</td>\n",
       "      <td>0.23</td>\n",
       "      <td>2</td>\n",
       "      <td>0.74</td>\n",
       "      <td>5.0</td>\n",
       "      <td>2</td>\n",
       "      <td>0.00</td>\n",
       "      <td>2</td>\n",
       "      <td>2</td>\n",
       "      <td>0</td>\n",
       "      <td>2</td>\n",
       "      <td>0</td>\n",
       "      <td>2</td>\n",
       "      <td>2.0</td>\n",
       "      <td>0</td>\n",
       "    </tr>\n",
       "    <tr>\n",
       "      <th>3</th>\n",
       "      <td>3.89</td>\n",
       "      <td>6</td>\n",
       "      <td>0.00</td>\n",
       "      <td>2</td>\n",
       "      <td>10.80</td>\n",
       "      <td>6</td>\n",
       "      <td>10.80</td>\n",
       "      <td>6.0</td>\n",
       "      <td>6</td>\n",
       "      <td>11.75</td>\n",
       "      <td>6</td>\n",
       "      <td>2</td>\n",
       "      <td>0</td>\n",
       "      <td>2</td>\n",
       "      <td>0</td>\n",
       "      <td>2</td>\n",
       "      <td>4.4</td>\n",
       "      <td>1</td>\n",
       "    </tr>\n",
       "    <tr>\n",
       "      <th>4</th>\n",
       "      <td>3.89</td>\n",
       "      <td>6</td>\n",
       "      <td>0.00</td>\n",
       "      <td>2</td>\n",
       "      <td>0.08</td>\n",
       "      <td>2</td>\n",
       "      <td>0.08</td>\n",
       "      <td>5.0</td>\n",
       "      <td>2</td>\n",
       "      <td>0.00</td>\n",
       "      <td>2</td>\n",
       "      <td>2</td>\n",
       "      <td>0</td>\n",
       "      <td>2</td>\n",
       "      <td>0</td>\n",
       "      <td>2</td>\n",
       "      <td>2.0</td>\n",
       "      <td>0</td>\n",
       "    </tr>\n",
       "  </tbody>\n",
       "</table>\n",
       "</div>"
      ],
      "text/plain": [
       "   Sector_score LOCATION_ID  PARA_A  SCORE_A  PARA_B  SCORE_B  TOTAL  numbers  \\\n",
       "0          3.89          23    4.18        6    2.50        2   6.68      5.0   \n",
       "1          3.89           6    0.00        2    4.83        2   4.83      5.0   \n",
       "2          3.89           6    0.51        2    0.23        2   0.74      5.0   \n",
       "3          3.89           6    0.00        2   10.80        6  10.80      6.0   \n",
       "4          3.89           6    0.00        2    0.08        2   0.08      5.0   \n",
       "\n",
       "   Marks  Money_Value  MONEY_Marks  District  Loss  LOSS_SCORE  History  \\\n",
       "0      2         3.38            2         2     0           2        0   \n",
       "1      2         0.94            2         2     0           2        0   \n",
       "2      2         0.00            2         2     0           2        0   \n",
       "3      6        11.75            6         2     0           2        0   \n",
       "4      2         0.00            2         2     0           2        0   \n",
       "\n",
       "   History_score  Score  Risk  \n",
       "0              2    2.4     1  \n",
       "1              2    2.0     0  \n",
       "2              2    2.0     0  \n",
       "3              2    4.4     1  \n",
       "4              2    2.0     0  "
      ]
     },
     "execution_count": 213,
     "metadata": {},
     "output_type": "execute_result"
    }
   ],
   "source": [
    "import numpy as np\n",
    "import pandas as pd\n",
    "\n",
    "audit_df1 = pd.read_csv(\"./audit_train.csv\")\n",
    "audit_df1.head()"
   ]
  },
  {
   "cell_type": "code",
   "execution_count": 214,
   "id": "f7e0082e-6c83-4a15-8788-fe202666a303",
   "metadata": {},
   "outputs": [
    {
     "data": {
      "text/html": [
       "<div>\n",
       "<style scoped>\n",
       "    .dataframe tbody tr th:only-of-type {\n",
       "        vertical-align: middle;\n",
       "    }\n",
       "\n",
       "    .dataframe tbody tr th {\n",
       "        vertical-align: top;\n",
       "    }\n",
       "\n",
       "    .dataframe thead th {\n",
       "        text-align: right;\n",
       "    }\n",
       "</style>\n",
       "<table border=\"1\" class=\"dataframe\">\n",
       "  <thead>\n",
       "    <tr style=\"text-align: right;\">\n",
       "      <th></th>\n",
       "      <th>Sector_score</th>\n",
       "      <th>PARA_A</th>\n",
       "      <th>PARA_B</th>\n",
       "      <th>TOTAL</th>\n",
       "      <th>numbers</th>\n",
       "      <th>Marks</th>\n",
       "      <th>Money_Value</th>\n",
       "      <th>MONEY_Marks</th>\n",
       "      <th>LOSS_SCORE</th>\n",
       "      <th>History_score</th>\n",
       "      <th>Risk</th>\n",
       "    </tr>\n",
       "  </thead>\n",
       "  <tbody>\n",
       "    <tr>\n",
       "      <th>0</th>\n",
       "      <td>3.89</td>\n",
       "      <td>4.18</td>\n",
       "      <td>2.50</td>\n",
       "      <td>6.68</td>\n",
       "      <td>5.0</td>\n",
       "      <td>2</td>\n",
       "      <td>3.38</td>\n",
       "      <td>2</td>\n",
       "      <td>2</td>\n",
       "      <td>2</td>\n",
       "      <td>1</td>\n",
       "    </tr>\n",
       "    <tr>\n",
       "      <th>1</th>\n",
       "      <td>3.89</td>\n",
       "      <td>0.00</td>\n",
       "      <td>4.83</td>\n",
       "      <td>4.83</td>\n",
       "      <td>5.0</td>\n",
       "      <td>2</td>\n",
       "      <td>0.94</td>\n",
       "      <td>2</td>\n",
       "      <td>2</td>\n",
       "      <td>2</td>\n",
       "      <td>0</td>\n",
       "    </tr>\n",
       "    <tr>\n",
       "      <th>2</th>\n",
       "      <td>3.89</td>\n",
       "      <td>0.51</td>\n",
       "      <td>0.23</td>\n",
       "      <td>0.74</td>\n",
       "      <td>5.0</td>\n",
       "      <td>2</td>\n",
       "      <td>0.00</td>\n",
       "      <td>2</td>\n",
       "      <td>2</td>\n",
       "      <td>2</td>\n",
       "      <td>0</td>\n",
       "    </tr>\n",
       "    <tr>\n",
       "      <th>3</th>\n",
       "      <td>3.89</td>\n",
       "      <td>0.00</td>\n",
       "      <td>10.80</td>\n",
       "      <td>10.80</td>\n",
       "      <td>6.0</td>\n",
       "      <td>6</td>\n",
       "      <td>11.75</td>\n",
       "      <td>6</td>\n",
       "      <td>2</td>\n",
       "      <td>2</td>\n",
       "      <td>1</td>\n",
       "    </tr>\n",
       "    <tr>\n",
       "      <th>4</th>\n",
       "      <td>3.89</td>\n",
       "      <td>0.00</td>\n",
       "      <td>0.08</td>\n",
       "      <td>0.08</td>\n",
       "      <td>5.0</td>\n",
       "      <td>2</td>\n",
       "      <td>0.00</td>\n",
       "      <td>2</td>\n",
       "      <td>2</td>\n",
       "      <td>2</td>\n",
       "      <td>0</td>\n",
       "    </tr>\n",
       "  </tbody>\n",
       "</table>\n",
       "</div>"
      ],
      "text/plain": [
       "   Sector_score  PARA_A  PARA_B  TOTAL  numbers  Marks  Money_Value  \\\n",
       "0          3.89    4.18    2.50   6.68      5.0      2         3.38   \n",
       "1          3.89    0.00    4.83   4.83      5.0      2         0.94   \n",
       "2          3.89    0.51    0.23   0.74      5.0      2         0.00   \n",
       "3          3.89    0.00   10.80  10.80      6.0      6        11.75   \n",
       "4          3.89    0.00    0.08   0.08      5.0      2         0.00   \n",
       "\n",
       "   MONEY_Marks  LOSS_SCORE  History_score  Risk  \n",
       "0            2           2              2     1  \n",
       "1            2           2              2     0  \n",
       "2            2           2              2     0  \n",
       "3            6           2              2     1  \n",
       "4            2           2              2     0  "
      ]
     },
     "execution_count": 214,
     "metadata": {},
     "output_type": "execute_result"
    }
   ],
   "source": [
    "# Date Preprocessing\n",
    "## 1. Check Date type and drop useless data\n",
    "audit_df1.drop(columns = [\"LOCATION_ID\",\"Score\", \"SCORE_A\", \"SCORE_B\",\n",
    "                         \"District\", \"Loss\", \"History\"], inplace = True) # Because of feature importance, model can depend on SCORE.\n",
    "audit_df1.head()"
   ]
  },
  {
   "cell_type": "code",
   "execution_count": 215,
   "id": "001b90b1-9cbe-4513-8021-72a212d605ae",
   "metadata": {},
   "outputs": [
    {
     "data": {
      "text/plain": [
       "Sector_score     0\n",
       "PARA_A           0\n",
       "PARA_B           0\n",
       "TOTAL            0\n",
       "numbers          0\n",
       "Marks            0\n",
       "Money_Value      1\n",
       "MONEY_Marks      0\n",
       "LOSS_SCORE       0\n",
       "History_score    0\n",
       "Risk             0\n",
       "dtype: int64"
      ]
     },
     "execution_count": 215,
     "metadata": {},
     "output_type": "execute_result"
    }
   ],
   "source": [
    "## 2. fill or drop na\n",
    "audit_df1.isnull().sum() # Check null value -> Money_Value"
   ]
  },
  {
   "cell_type": "code",
   "execution_count": 216,
   "id": "6013efc2-f7a3-45db-9a59-0644e0102a05",
   "metadata": {},
   "outputs": [],
   "source": [
    "for col in audit_df1.columns:\n",
    "    if(audit_df1[col] <= 0).all():\n",
    "        print(f'{col}:null')"
   ]
  },
  {
   "cell_type": "code",
   "execution_count": 217,
   "id": "bb6fa7a8-f68e-4fdd-a944-e29308c71710",
   "metadata": {},
   "outputs": [
    {
     "name": "stderr",
     "output_type": "stream",
     "text": [
      "C:\\Users\\ksung\\AppData\\Local\\Temp\\ipykernel_26492\\2109966983.py:1: FutureWarning:\n",
      "\n",
      "A value is trying to be set on a copy of a DataFrame or Series through chained assignment using an inplace method.\n",
      "The behavior will change in pandas 3.0. This inplace method will never work because the intermediate object on which we are setting values always behaves as a copy.\n",
      "\n",
      "For example, when doing 'df[col].method(value, inplace=True)', try using 'df.method({col: value}, inplace=True)' or df[col] = df[col].method(value) instead, to perform the operation inplace on the original object.\n",
      "\n",
      "\n",
      "\n"
     ]
    }
   ],
   "source": [
    "audit_df1[\"Money_Value\"].fillna(audit_df1[\"Money_Value\"].mean(), inplace = True) # fillna complete"
   ]
  },
  {
   "cell_type": "code",
   "execution_count": 218,
   "id": "1ea30e0e-be9b-41a0-a043-96bfd6cacd37",
   "metadata": {},
   "outputs": [
    {
     "data": {
      "text/plain": [
       "Sector_score     56\n",
       "PARA_A           56\n",
       "PARA_B           56\n",
       "TOTAL            56\n",
       "numbers          56\n",
       "Marks            56\n",
       "Money_Value      56\n",
       "MONEY_Marks      56\n",
       "LOSS_SCORE       56\n",
       "History_score    56\n",
       "Risk             56\n",
       "dtype: int64"
      ]
     },
     "execution_count": 218,
     "metadata": {},
     "output_type": "execute_result"
    }
   ],
   "source": [
    "## 3. check duplications\n",
    "audit_df1[audit_df1.duplicated()].count() # 13, but it is not duplicated value, not all same, and not too much for model"
   ]
  },
  {
   "cell_type": "code",
   "execution_count": 219,
   "id": "94721ed0-230b-41dd-b5a6-e0302e72cd2f",
   "metadata": {},
   "outputs": [
    {
     "data": {
      "text/html": [
       "<div>\n",
       "<style scoped>\n",
       "    .dataframe tbody tr th:only-of-type {\n",
       "        vertical-align: middle;\n",
       "    }\n",
       "\n",
       "    .dataframe tbody tr th {\n",
       "        vertical-align: top;\n",
       "    }\n",
       "\n",
       "    .dataframe thead th {\n",
       "        text-align: right;\n",
       "    }\n",
       "</style>\n",
       "<table border=\"1\" class=\"dataframe\">\n",
       "  <thead>\n",
       "    <tr style=\"text-align: right;\">\n",
       "      <th></th>\n",
       "      <th>Sector_score</th>\n",
       "      <th>PARA_A</th>\n",
       "      <th>PARA_B</th>\n",
       "      <th>TOTAL</th>\n",
       "      <th>numbers</th>\n",
       "      <th>Marks</th>\n",
       "      <th>Money_Value</th>\n",
       "      <th>MONEY_Marks</th>\n",
       "      <th>LOSS_SCORE</th>\n",
       "      <th>History_score</th>\n",
       "      <th>Risk</th>\n",
       "    </tr>\n",
       "  </thead>\n",
       "  <tbody>\n",
       "    <tr>\n",
       "      <th>count</th>\n",
       "      <td>776.000000</td>\n",
       "      <td>776.000000</td>\n",
       "      <td>776.000000</td>\n",
       "      <td>776.000000</td>\n",
       "      <td>776.000000</td>\n",
       "      <td>776.000000</td>\n",
       "      <td>776.000000</td>\n",
       "      <td>776.000000</td>\n",
       "      <td>776.000000</td>\n",
       "      <td>776.000000</td>\n",
       "      <td>776.000000</td>\n",
       "    </tr>\n",
       "    <tr>\n",
       "      <th>mean</th>\n",
       "      <td>20.184536</td>\n",
       "      <td>2.450194</td>\n",
       "      <td>10.799988</td>\n",
       "      <td>13.218481</td>\n",
       "      <td>5.067655</td>\n",
       "      <td>2.237113</td>\n",
       "      <td>14.137631</td>\n",
       "      <td>2.909794</td>\n",
       "      <td>2.061856</td>\n",
       "      <td>2.167526</td>\n",
       "      <td>0.626289</td>\n",
       "    </tr>\n",
       "    <tr>\n",
       "      <th>std</th>\n",
       "      <td>24.319017</td>\n",
       "      <td>5.678870</td>\n",
       "      <td>50.083624</td>\n",
       "      <td>51.312829</td>\n",
       "      <td>0.264449</td>\n",
       "      <td>0.803517</td>\n",
       "      <td>66.563533</td>\n",
       "      <td>1.597452</td>\n",
       "      <td>0.375080</td>\n",
       "      <td>0.679869</td>\n",
       "      <td>0.484100</td>\n",
       "    </tr>\n",
       "    <tr>\n",
       "      <th>min</th>\n",
       "      <td>1.850000</td>\n",
       "      <td>0.000000</td>\n",
       "      <td>0.000000</td>\n",
       "      <td>0.000000</td>\n",
       "      <td>5.000000</td>\n",
       "      <td>2.000000</td>\n",
       "      <td>0.000000</td>\n",
       "      <td>2.000000</td>\n",
       "      <td>2.000000</td>\n",
       "      <td>2.000000</td>\n",
       "      <td>0.000000</td>\n",
       "    </tr>\n",
       "    <tr>\n",
       "      <th>25%</th>\n",
       "      <td>2.370000</td>\n",
       "      <td>0.210000</td>\n",
       "      <td>0.000000</td>\n",
       "      <td>0.537500</td>\n",
       "      <td>5.000000</td>\n",
       "      <td>2.000000</td>\n",
       "      <td>0.000000</td>\n",
       "      <td>2.000000</td>\n",
       "      <td>2.000000</td>\n",
       "      <td>2.000000</td>\n",
       "      <td>0.000000</td>\n",
       "    </tr>\n",
       "    <tr>\n",
       "      <th>50%</th>\n",
       "      <td>3.890000</td>\n",
       "      <td>0.875000</td>\n",
       "      <td>0.405000</td>\n",
       "      <td>1.370000</td>\n",
       "      <td>5.000000</td>\n",
       "      <td>2.000000</td>\n",
       "      <td>0.095000</td>\n",
       "      <td>2.000000</td>\n",
       "      <td>2.000000</td>\n",
       "      <td>2.000000</td>\n",
       "      <td>1.000000</td>\n",
       "    </tr>\n",
       "    <tr>\n",
       "      <th>75%</th>\n",
       "      <td>55.570000</td>\n",
       "      <td>2.480000</td>\n",
       "      <td>4.160000</td>\n",
       "      <td>7.707500</td>\n",
       "      <td>5.000000</td>\n",
       "      <td>2.000000</td>\n",
       "      <td>5.630000</td>\n",
       "      <td>4.000000</td>\n",
       "      <td>2.000000</td>\n",
       "      <td>2.000000</td>\n",
       "      <td>1.000000</td>\n",
       "    </tr>\n",
       "    <tr>\n",
       "      <th>max</th>\n",
       "      <td>59.850000</td>\n",
       "      <td>85.000000</td>\n",
       "      <td>1264.630000</td>\n",
       "      <td>1268.910000</td>\n",
       "      <td>9.000000</td>\n",
       "      <td>6.000000</td>\n",
       "      <td>935.030000</td>\n",
       "      <td>6.000000</td>\n",
       "      <td>6.000000</td>\n",
       "      <td>6.000000</td>\n",
       "      <td>1.000000</td>\n",
       "    </tr>\n",
       "  </tbody>\n",
       "</table>\n",
       "</div>"
      ],
      "text/plain": [
       "       Sector_score      PARA_A       PARA_B        TOTAL     numbers  \\\n",
       "count    776.000000  776.000000   776.000000   776.000000  776.000000   \n",
       "mean      20.184536    2.450194    10.799988    13.218481    5.067655   \n",
       "std       24.319017    5.678870    50.083624    51.312829    0.264449   \n",
       "min        1.850000    0.000000     0.000000     0.000000    5.000000   \n",
       "25%        2.370000    0.210000     0.000000     0.537500    5.000000   \n",
       "50%        3.890000    0.875000     0.405000     1.370000    5.000000   \n",
       "75%       55.570000    2.480000     4.160000     7.707500    5.000000   \n",
       "max       59.850000   85.000000  1264.630000  1268.910000    9.000000   \n",
       "\n",
       "            Marks  Money_Value  MONEY_Marks  LOSS_SCORE  History_score  \\\n",
       "count  776.000000   776.000000   776.000000  776.000000     776.000000   \n",
       "mean     2.237113    14.137631     2.909794    2.061856       2.167526   \n",
       "std      0.803517    66.563533     1.597452    0.375080       0.679869   \n",
       "min      2.000000     0.000000     2.000000    2.000000       2.000000   \n",
       "25%      2.000000     0.000000     2.000000    2.000000       2.000000   \n",
       "50%      2.000000     0.095000     2.000000    2.000000       2.000000   \n",
       "75%      2.000000     5.630000     4.000000    2.000000       2.000000   \n",
       "max      6.000000   935.030000     6.000000    6.000000       6.000000   \n",
       "\n",
       "             Risk  \n",
       "count  776.000000  \n",
       "mean     0.626289  \n",
       "std      0.484100  \n",
       "min      0.000000  \n",
       "25%      0.000000  \n",
       "50%      1.000000  \n",
       "75%      1.000000  \n",
       "max      1.000000  "
      ]
     },
     "execution_count": 219,
     "metadata": {},
     "output_type": "execute_result"
    }
   ],
   "source": [
    "## 4. plot check\n",
    "audit_df1.describe()    "
   ]
  },
  {
   "cell_type": "code",
   "execution_count": 95,
   "id": "9051c380-e097-4759-ae9d-95d142a5871a",
   "metadata": {
    "collapsed": true,
    "jupyter": {
     "outputs_hidden": true
    }
   },
   "outputs": [
    {
     "data": {
      "image/png": "[encoded data removed]",
      "text/plain": [
       "<Figure size 640x480 with 1 Axes>"
      ]
     },
     "metadata": {},
     "output_type": "display_data"
    },
    {
     "data": {
      "image/png": "[encoded data removed]",
      "text/plain": [
       "<Figure size 640x480 with 1 Axes>"
      ]
     },
     "metadata": {},
     "output_type": "display_data"
    },
    {
     "data": {
      "image/png": "[encoded data removed]",
      "text/plain": [
       "<Figure size 640x480 with 1 Axes>"
      ]
     },
     "metadata": {},
     "output_type": "display_data"
    },
    {
     "data": {
      "image/png": "[encoded data removed]",
      "text/plain": [
       "<Figure size 640x480 with 1 Axes>"
      ]
     },
     "metadata": {},
     "output_type": "display_data"
    },
    {
     "data": {
      "image/png": "[encoded data removed]",
      "text/plain": [
       "<Figure size 640x480 with 1 Axes>"
      ]
     },
     "metadata": {},
     "output_type": "display_data"
    },
    {
     "data": {
      "image/png": "[encoded data removed]",
      "text/plain": [
       "<Figure size 640x480 with 1 Axes>"
      ]
     },
     "metadata": {},
     "output_type": "display_data"
    },
    {
     "data": {
      "image/png": "[encoded data removed]",
      "text/plain": [
       "<Figure size 640x480 with 1 Axes>"
      ]
     },
     "metadata": {},
     "output_type": "display_data"
    },
    {
     "data": {
      "image/png": "[encoded data removed]",
      "text/plain": [
       "<Figure size 640x480 with 1 Axes>"
      ]
     },
     "metadata": {},
     "output_type": "display_data"
    },
    {
     "data": {
      "image/png": "[encoded data removed]",
      "text/plain": [
       "<Figure size 640x480 with 1 Axes>"
      ]
     },
     "metadata": {},
     "output_type": "display_data"
    },
    {
     "data": {
      "image/png": "[encoded data removed]",
      "text/plain": [
       "<Figure size 640x480 with 1 Axes>"
      ]
     },
     "metadata": {},
     "output_type": "display_data"
    },
    {
     "data": {
      "image/png": "[encoded data removed]",
      "text/plain": [
       "<Figure size 640x480 with 1 Axes>"
      ]
     },
     "metadata": {},
     "output_type": "display_data"
    },
    {
     "data": {
      "image/png": "[encoded data removed]",
      "text/plain": [
       "<Figure size 640x480 with 1 Axes>"
      ]
     },
     "metadata": {},
     "output_type": "display_data"
    },
    {
     "data": {
      "image/png": "[encoded data removed]",
      "text/plain": [
       "<Figure size 640x480 with 1 Axes>"
      ]
     },
     "metadata": {},
     "output_type": "display_data"
    },
    {
     "data": {
      "image/png": "[encoded data removed]",
      "text/plain": [
       "<Figure size 640x480 with 1 Axes>"
      ]
     },
     "metadata": {},
     "output_type": "display_data"
    },
    {
     "data": {
      "image/png": "[encoded data removed]",
      "text/plain": [
       "<Figure size 640x480 with 1 Axes>"
      ]
     },
     "metadata": {},
     "output_type": "display_data"
    },
    {
     "data": {
      "image/png": "[encoded data removed]",
      "text/plain": [
       "<Figure size 640x480 with 1 Axes>"
      ]
     },
     "metadata": {},
     "output_type": "display_data"
    },
    {
     "data": {
      "image/png": "[encoded data removed]",
      "text/plain": [
       "<Figure size 640x480 with 1 Axes>"
      ]
     },
     "metadata": {},
     "output_type": "display_data"
    }
   ],
   "source": [
    "import matplotlib.pyplot as plt\n",
    "\n",
    "for col in audit_df1.columns:\n",
    "    plt.hist(audit_df1[col])\n",
    "    plt.title(col)\n",
    "    plt.show()"
   ]
  },
  {
   "cell_type": "code",
   "execution_count": 96,
   "id": "4a19600b-a627-48b2-a239-c51b6ad3dd01",
   "metadata": {
    "collapsed": true,
    "jupyter": {
     "outputs_hidden": true
    }
   },
   "outputs": [
    {
     "data": {
      "image/png": "[encoded data removed]",
      "text/plain": [
       "<Figure size 640x480 with 1 Axes>"
      ]
     },
     "metadata": {},
     "output_type": "display_data"
    },
    {
     "data": {
      "image/png": "[encoded data removed]",
      "text/plain": [
       "<Figure size 640x480 with 1 Axes>"
      ]
     },
     "metadata": {},
     "output_type": "display_data"
    },
    {
     "data": {
      "image/png": "[encoded data removed]",
      "text/plain": [
       "<Figure size 640x480 with 1 Axes>"
      ]
     },
     "metadata": {},
     "output_type": "display_data"
    },
    {
     "data": {
      "image/png": "[encoded data removed]",
      "text/plain": [
       "<Figure size 640x480 with 1 Axes>"
      ]
     },
     "metadata": {},
     "output_type": "display_data"
    },
    {
     "data": {
      "image/png": "[encoded data removed]",
      "text/plain": [
       "<Figure size 640x480 with 1 Axes>"
      ]
     },
     "metadata": {},
     "output_type": "display_data"
    },
    {
     "data": {
      "image/png": "[encoded data removed]",
      "text/plain": [
       "<Figure size 640x480 with 1 Axes>"
      ]
     },
     "metadata": {},
     "output_type": "display_data"
    },
    {
     "data": {
      "image/png": "[encoded data removed]",
      "text/plain": [
       "<Figure size 640x480 with 1 Axes>"
      ]
     },
     "metadata": {},
     "output_type": "display_data"
    },
    {
     "data": {
      "image/png": "[encoded data removed]",
      "text/plain": [
       "<Figure size 640x480 with 1 Axes>"
      ]
     },
     "metadata": {},
     "output_type": "display_data"
    },
    {
     "data": {
      "image/png": "[encoded data removed]",
      "text/plain": [
       "<Figure size 640x480 with 1 Axes>"
      ]
     },
     "metadata": {},
     "output_type": "display_data"
    },
    {
     "data": {
      "image/png": "[encoded data removed]",
      "text/plain": [
       "<Figure size 640x480 with 1 Axes>"
      ]
     },
     "metadata": {},
     "output_type": "display_data"
    },
    {
     "data": {
      "image/png": "[encoded data removed]",
      "text/plain": [
       "<Figure size 640x480 with 1 Axes>"
      ]
     },
     "metadata": {},
     "output_type": "display_data"
    },
    {
     "data": {
      "image/png": "[encoded data removed]",
      "text/plain": [
       "<Figure size 640x480 with 1 Axes>"
      ]
     },
     "metadata": {},
     "output_type": "display_data"
    },
    {
     "data": {
      "image/png": "[encoded data removed]",
      "text/plain": [
       "<Figure size 640x480 with 1 Axes>"
      ]
     },
     "metadata": {},
     "output_type": "display_data"
    },
    {
     "data": {
      "image/png": "[encoded data removed]",
      "text/plain": [
       "<Figure size 640x480 with 1 Axes>"
      ]
     },
     "metadata": {},
     "output_type": "display_data"
    },
    {
     "data": {
      "image/png": "[encoded data removed]",
      "text/plain": [
       "<Figure size 640x480 with 1 Axes>"
      ]
     },
     "metadata": {},
     "output_type": "display_data"
    },
    {
     "data": {
      "image/png": "[encoded data removed]",
      "text/plain": [
       "<Figure size 640x480 with 1 Axes>"
      ]
     },
     "metadata": {},
     "output_type": "display_data"
    },
    {
     "data": {
      "image/png": "[encoded data removed]",
      "text/plain": [
       "<Figure size 640x480 with 1 Axes>"
      ]
     },
     "metadata": {},
     "output_type": "display_data"
    }
   ],
   "source": [
    "import matplotlib.pyplot as plt\n",
    "\n",
    "for col in audit_df1.select_dtypes(include=['int64', 'float64']).columns:\n",
    "    plt.boxplot(audit_df1[col].dropna())\n",
    "    plt.title(col)\n",
    "    plt.show()\n"
   ]
  },
  {
   "cell_type": "code",
   "execution_count": 220,
   "id": "cfed8e74-426f-4c22-a029-e2a20a8ef978",
   "metadata": {},
   "outputs": [
    {
     "name": "stdout",
     "output_type": "stream",
     "text": [
      "Sector_score: 이상치 0개\n",
      "PARA_A: 이상치 82개\n",
      "PARA_B: 이상치 138개\n",
      "TOTAL: 이상치 130개\n",
      "numbers: 이상치 70개\n",
      "Marks: 이상치 70개\n",
      "Money_Value: 이상치 118개\n",
      "MONEY_Marks: 이상치 0개\n",
      "LOSS_SCORE: 이상치 22개\n",
      "History_score: 이상치 50개\n",
      "Risk: 이상치 0개\n"
     ]
    }
   ],
   "source": [
    "# Check count of outliers.\n",
    "# First, we will do classification, so we just let them,,,\n",
    "for col in audit_df1.columns:\n",
    "    q1 = audit_df1[col].quantile(0.25)\n",
    "    q3 = audit_df1[col].quantile(0.75)\n",
    "    iqr = q3 - q1\n",
    "    lower_bound = q1 - 1.5 * iqr\n",
    "    upper_bound = q3 + 1.5 * iqr\n",
    "    outliers = audit_df1[(audit_df1[col] < lower_bound) | (audit_df1[col] > upper_bound)]\n",
    "    print(f\"{col}: 이상치 {len(outliers)}개\")\n"
   ]
  },
  {
   "cell_type": "code",
   "execution_count": 221,
   "id": "95907624-2251-4fee-91bc-1a688308ad7f",
   "metadata": {},
   "outputs": [
    {
     "data": {
      "text/plain": [
       "0    1\n",
       "1    0\n",
       "2    0\n",
       "3    1\n",
       "4    0\n",
       "Name: Risk, dtype: int64"
      ]
     },
     "execution_count": 221,
     "metadata": {},
     "output_type": "execute_result"
    }
   ],
   "source": [
    "# Divide feature and target\n",
    "X_features = audit_df1.iloc[:,:-1]\n",
    "y_labels = audit_df1.iloc[:,-1]\n",
    "\n",
    "X_features.shape # (776, 16)\n",
    "X_features.head()\n",
    "\n",
    "y_labels.shape # (776,)\n",
    "y_labels.head()"
   ]
  },
  {
   "cell_type": "code",
   "execution_count": 222,
   "id": "8526d590-ce55-4179-87e7-5e6333c86fd5",
   "metadata": {},
   "outputs": [],
   "source": [
    "from sklearn.model_selection import train_test_split\n",
    "from imblearn.over_sampling import SMOTE\n",
    "from sklearn.preprocessing import StandardScaler\n",
    "import pandas as pd\n",
    "import numpy as np\n",
    "\n",
    "# 1. Dividing Data\n",
    "X_train, X_test, y_train, y_test = train_test_split(\n",
    "    X_features, y_labels, test_size=0.3, stratify=y_labels, random_state=42\n",
    ")\n",
    "# For validation\n",
    "X_tr, X_val, y_tr, y_val = train_test_split(X_train, y_train, test_size=0.2, stratify=y_train, random_state=42)\n",
    "\n",
    "# 2. Transition Log \n",
    "for col in X_train.columns:\n",
    "    if (X_train[col] >= 0).all():\n",
    "        X_train[col] = np.log1p(X_train[col])\n",
    "        X_test[col] = np.log1p(X_test[col])\n",
    "        X_val[col] = np.log1p(X_val{col])\n",
    "\n",
    "# 3. Scaling\n",
    "scaler = StandardScaler()\n",
    "X_train_scaled = scaler.fit_transform(X_train)\n",
    "X_test_scaled = scaler.transform(X_test)\n",
    "X_val_scaled = scaler.transform(X_val)\n",
    "\n",
    "# 4. SMOTE \n",
    "smote = SMOTE(random_state=42)\n",
    "X_train_resampled, y_train_resampled = smote.fit_resample(X_train_scaled, y_train)"
   ]
  },
  {
   "cell_type": "code",
   "execution_count": 223,
   "id": "3bbc07d6-cd9e-433b-b899-247ad05f4087",
   "metadata": {},
   "outputs": [
    {
     "name": "stdout",
     "output_type": "stream",
     "text": [
      "Risk\n",
      "0    0.5\n",
      "1    0.5\n",
      "Name: proportion, dtype: float64\n"
     ]
    }
   ],
   "source": [
    "# Target Balancing Check\n",
    "print(y_train_resampled.value_counts(normalize=True)) "
   ]
  },
  {
   "cell_type": "code",
   "execution_count": 232,
   "id": "65d1fd8d-ad38-42a9-8db1-6e1fba650b71",
   "metadata": {},
   "outputs": [
    {
     "name": "stdout",
     "output_type": "stream",
     "text": [
      "Accuracy of RF : 0.9270\n",
      "[0.91189427 0.96475771 0.97787611]\n",
      "[[ 81   6]\n",
      " [ 11 135]]\n",
      "              precision    recall  f1-score   support\n",
      "\n",
      "           0       0.88      0.93      0.91        87\n",
      "           1       0.96      0.92      0.94       146\n",
      "\n",
      "    accuracy                           0.93       233\n",
      "   macro avg       0.92      0.93      0.92       233\n",
      "weighted avg       0.93      0.93      0.93       233\n",
      "\n"
     ]
    }
   ],
   "source": [
    "# Random Forest\n",
    "from sklearn.ensemble import RandomForestClassifier\n",
    "from sklearn.metrics import classification_report, confusion_matrix\n",
    "from sklearn.metrics import accuracy_score\n",
    "from sklearn.model_selection import cross_val_score\n",
    "\n",
    "rf_clf = RandomForestClassifier(n_estimators=100, random_state=0, max_depth=8)\n",
    "rf_clf.fit(X_train_resampled, y_train_resampled)\n",
    "pred = rf_clf.predict(X_test_scaled)\n",
    "\n",
    "scores = cross_val_score(rf_clf, X_train_resampled, y_train_resampled, scoring = 'accuracy', cv=3)\n",
    "accuracy = accuracy_score(y_test, pred)\n",
    "\n",
    "print(\"Accuracy of RF : {:.4f}\".format(accuracy))\n",
    "print(scores)\n",
    "print(confusion_matrix(y_test, pred))\n",
    "print(classification_report(y_test, pred)) # -> feature dependency"
   ]
  },
  {
   "cell_type": "code",
   "execution_count": 132,
   "id": "d8a507f3-18aa-4a7a-bf4d-b5639aa7d750",
   "metadata": {
    "collapsed": true,
    "jupyter": {
     "outputs_hidden": true
    }
   },
   "outputs": [
    {
     "data": {
      "text/plain": [
       "<Axes: xlabel='Risk', ylabel='Score'>"
      ]
     },
     "execution_count": 132,
     "metadata": {},
     "output_type": "execute_result"
    },
    {
     "data": {
      "image/png": "[encoded data removed]",
      "text/plain": [
       "<Figure size 640x480 with 1 Axes>"
      ]
     },
     "metadata": {},
     "output_type": "display_data"
    }
   ],
   "source": [
    "# import seaborn as sns\n",
    "\n",
    "# # 예시: Score와 Risk의 관계\n",
    "# sns.boxplot(x=y_train, y=X_train['Score'])\n"
   ]
  },
  {
   "cell_type": "code",
   "execution_count": 207,
   "id": "e4fea9fc-8639-4933-a97f-6970a18022d2",
   "metadata": {},
   "outputs": [],
   "source": [
    "# X_train_scaled_df = pd.DataFrame(X_train_resampled, columns = X_train.columns)"
   ]
  },
  {
   "cell_type": "code",
   "execution_count": 208,
   "id": "2f58e8ac-f83f-477c-ba5d-a1c705dc99f0",
   "metadata": {},
   "outputs": [
    {
     "data": {
      "text/plain": [
       "PARA_A           0.388262\n",
       "TOTAL            0.252884\n",
       "PARA_B           0.154845\n",
       "Money_Value      0.076921\n",
       "MONEY_Marks      0.051504\n",
       "Sector_score     0.048002\n",
       "LOSS_SCORE       0.015490\n",
       "Marks            0.005213\n",
       "numbers          0.004277\n",
       "History_score    0.002602\n",
       "dtype: float64"
      ]
     },
     "execution_count": 208,
     "metadata": {},
     "output_type": "execute_result"
    }
   ],
   "source": [
    "# ## feature importane\n",
    "# ftr_importances_values = rf_clf.feature_importances_\n",
    "# ftr_importances = pd.Series(ftr_importances_values, index = X_train_scaled_df.columns)\n",
    "# ftr_importances.sort_values(ascending=False)\n"
   ]
  },
  {
   "cell_type": "code",
   "execution_count": 226,
   "id": "08d96861-005e-454e-b6d2-ff6c9e7e13ea",
   "metadata": {},
   "outputs": [
    {
     "name": "stdout",
     "output_type": "stream",
     "text": [
      "Accuracy of XGB : 0.9227\n",
      "[[ 80   7]\n",
      " [ 11 135]]\n",
      "              precision    recall  f1-score   support\n",
      "\n",
      "           0       0.88      0.92      0.90        87\n",
      "           1       0.95      0.92      0.94       146\n",
      "\n",
      "    accuracy                           0.92       233\n",
      "   macro avg       0.91      0.92      0.92       233\n",
      "weighted avg       0.92      0.92      0.92       233\n",
      "\n",
      "0.9576838293182177\n"
     ]
    }
   ],
   "source": [
    "# XGB\n",
    "from xgboost import XGBClassifier\n",
    "from sklearn.metrics import accuracy_score, confusion_matrix, classification_report, roc_auc_score\n",
    "\n",
    "# 1. Definition of model and fit\n",
    "xgb_wrapper = XGBClassifier(n_estimators=300, learning_rate=0.1, max_depth=3, eval_metric=\"logloss\")\n",
    "xgb_wrapper.fit(X_train_resampled, y_train_resampled)\n",
    "\n",
    "# 2. Predict\n",
    "pred = xgb_wrapper.predict(X_test_scaled)\n",
    "probs = xgb_wrapper.predict_proba(X_test_scaled)[:, 1]  # 확률값 (ROC-AUC 등 사용 시)\n",
    "\n",
    "# 3. Evaluate\n",
    "accuracy = accuracy_score(y_test, pred)\n",
    "print(\"Accuracy of XGB : {:.4f}\".format(accuracy))\n",
    "print(confusion_matrix(y_test, pred))\n",
    "print(classification_report(y_test, pred))\n",
    "print(roc_auc_score(y_test, probs))"
   ]
  },
  {
   "cell_type": "code",
   "execution_count": 228,
   "id": "d15802d0-5dfc-403a-a140-3e63ee35f46e",
   "metadata": {},
   "outputs": [
    {
     "name": "stdout",
     "output_type": "stream",
     "text": [
      "Accuracy of XGB : 0.9227\n",
      "[[ 79   8]\n",
      " [ 10 136]]\n",
      "              precision    recall  f1-score   support\n",
      "\n",
      "           0       0.89      0.91      0.90        87\n",
      "           1       0.94      0.93      0.94       146\n",
      "\n",
      "    accuracy                           0.92       233\n",
      "   macro avg       0.92      0.92      0.92       233\n",
      "weighted avg       0.92      0.92      0.92       233\n",
      "\n",
      "0.9597307510628247\n"
     ]
    }
   ],
   "source": [
    "# Light GBM\n",
    "from lightgbm import LGBMClassifier\n",
    "from sklearn.metrics import accuracy_score, confusion_matrix, classification_report, roc_auc_score\n",
    "\n",
    "# 1. Definition of model and fit\n",
    "xgb_wrapper = LGBMClassifier(n_estimators=300, learning_rate=0.1, max_depth=3)\n",
    "xgb_wrapper.fit(X_train_resampled, y_train_resampled)\n",
    "\n",
    "# 2. Predict\n",
    "pred = xgb_wrapper.predict(X_test_scaled)\n",
    "probs = xgb_wrapper.predict_proba(X_test_scaled)[:, 1]  # 확률값 (ROC-AUC 등 사용 시)\n",
    "\n",
    "# 3. Evaluate\n",
    "accuracy = accuracy_score(y_test, pred)\n",
    "print(\"Accuracy of XGB : {:.4f}\".format(accuracy))\n",
    "print(confusion_matrix(y_test, pred))\n",
    "print(classification_report(y_test, pred))\n",
    "print(roc_auc_score(y_test, probs))"
   ]
  },
  {
   "cell_type": "code",
   "execution_count": 229,
   "id": "099636a1-cd06-4ef0-948d-676130392f1f",
   "metadata": {
    "collapsed": true,
    "jupyter": {
     "outputs_hidden": true,
     "source_hidden": true
    }
   },
   "outputs": [
    {
     "name": "stdout",
     "output_type": "stream",
     "text": [
      "Defaulting to user installation because normal site-packages is not writeable\n",
      "Requirement already satisfied: xgboost in c:\\programdata\\anaconda3\\lib\\site-packages (2.1.1)\n",
      "Collecting xgboost\n",
      "  Downloading xgboost-3.0.0-py3-none-win_amd64.whl.metadata (2.1 kB)\n",
      "Requirement already satisfied: numpy in c:\\programdata\\anaconda3\\lib\\site-packages (from xgboost) (1.26.4)\n",
      "Requirement already satisfied: scipy in c:\\programdata\\anaconda3\\lib\\site-packages (from xgboost) (1.13.1)\n",
      "Downloading xgboost-3.0.0-py3-none-win_amd64.whl (150.0 MB)\n",
      "   ---------------------------------------- 0.0/150.0 MB ? eta -:--:--\n",
      "    --------------------------------------- 2.6/150.0 MB 12.6 MB/s eta 0:00:12\n",
      "   -- ------------------------------------- 7.6/150.0 MB 16.2 MB/s eta 0:00:09\n",
      "   --- ------------------------------------ 12.6/150.0 MB 17.9 MB/s eta 0:00:08\n",
      "   ---- ----------------------------------- 17.6/150.0 MB 18.2 MB/s eta 0:00:08\n",
      "   ----- ---------------------------------- 20.7/150.0 MB 15.4 MB/s eta 0:00:09\n",
      "   ------ --------------------------------- 23.9/150.0 MB 13.4 MB/s eta 0:00:10\n",
      "   ------- -------------------------------- 28.8/150.0 MB 14.1 MB/s eta 0:00:09\n",
      "   --------- ------------------------------ 33.8/150.0 MB 14.6 MB/s eta 0:00:08\n",
      "   ---------- ----------------------------- 39.1/150.0 MB 15.3 MB/s eta 0:00:08\n",
      "   ----------- ---------------------------- 42.2/150.0 MB 15.0 MB/s eta 0:00:08\n",
      "   ------------ --------------------------- 48.5/150.0 MB 15.6 MB/s eta 0:00:07\n",
      "   ------------- -------------------------- 52.2/150.0 MB 15.5 MB/s eta 0:00:07\n",
      "   --------------- ------------------------ 57.1/150.0 MB 15.7 MB/s eta 0:00:06\n",
      "   ---------------- ----------------------- 60.8/150.0 MB 15.6 MB/s eta 0:00:06\n",
      "   ----------------- ---------------------- 64.2/150.0 MB 15.4 MB/s eta 0:00:06\n",
      "   ----------------- ---------------------- 67.1/150.0 MB 15.3 MB/s eta 0:00:06\n",
      "   ------------------ --------------------- 69.5/150.0 MB 15.0 MB/s eta 0:00:06\n",
      "   ------------------- -------------------- 71.3/150.0 MB 13.7 MB/s eta 0:00:06\n",
      "   ------------------- -------------------- 73.4/150.0 MB 13.2 MB/s eta 0:00:06\n",
      "   --------------------- ------------------ 79.2/150.0 MB 13.5 MB/s eta 0:00:06\n",
      "   ---------------------- ----------------- 83.6/150.0 MB 13.6 MB/s eta 0:00:05\n",
      "   ----------------------- ---------------- 87.6/150.0 MB 13.7 MB/s eta 0:00:05\n",
      "   ------------------------ --------------- 93.3/150.0 MB 14.0 MB/s eta 0:00:05\n",
      "   -------------------------- ------------- 98.8/150.0 MB 14.2 MB/s eta 0:00:04\n",
      "   --------------------------- ----------- 104.3/150.0 MB 14.5 MB/s eta 0:00:04\n",
      "   ---------------------------- ---------- 109.8/150.0 MB 14.8 MB/s eta 0:00:03\n",
      "   ---------------------------- ---------- 110.9/150.0 MB 14.4 MB/s eta 0:00:03\n",
      "   ----------------------------- --------- 112.2/150.0 MB 14.2 MB/s eta 0:00:03\n",
      "   ------------------------------ -------- 117.2/150.0 MB 14.0 MB/s eta 0:00:03\n",
      "   ------------------------------- ------- 121.9/150.0 MB 14.2 MB/s eta 0:00:02\n",
      "   -------------------------------- ------ 126.9/150.0 MB 14.1 MB/s eta 0:00:02\n",
      "   --------------------------------- ----- 130.5/150.0 MB 14.0 MB/s eta 0:00:02\n",
      "   ---------------------------------- ---- 134.2/150.0 MB 14.1 MB/s eta 0:00:02\n",
      "   ----------------------------------- --- 137.4/150.0 MB 13.9 MB/s eta 0:00:01\n",
      "   ------------------------------------ -- 141.8/150.0 MB 14.0 MB/s eta 0:00:01\n",
      "   --------------------------------------  146.3/150.0 MB 14.1 MB/s eta 0:00:01\n",
      "   --------------------------------------  149.9/150.0 MB 14.1 MB/s eta 0:00:01\n",
      "   --------------------------------------  149.9/150.0 MB 14.1 MB/s eta 0:00:01\n",
      "   --------------------------------------  149.9/150.0 MB 14.1 MB/s eta 0:00:01\n",
      "   --------------------------------------  149.9/150.0 MB 14.1 MB/s eta 0:00:01\n",
      "   --------------------------------------  149.9/150.0 MB 14.1 MB/s eta 0:00:01\n",
      "   --------------------------------------  149.9/150.0 MB 14.1 MB/s eta 0:00:01\n",
      "   --------------------------------------  149.9/150.0 MB 14.1 MB/s eta 0:00:01\n",
      "   --------------------------------------  149.9/150.0 MB 14.1 MB/s eta 0:00:01\n",
      "   --------------------------------------- 150.0/150.0 MB 12.0 MB/s eta 0:00:00\n",
      "Installing collected packages: xgboost\n",
      "Successfully installed xgboost-3.0.0\n",
      "Note: you may need to restart the kernel to use updated packages.\n"
     ]
    }
   ],
   "source": [
    "pip install --upgrade xgboost\n"
   ]
  },
  {
   "cell_type": "code",
   "execution_count": 236,
   "id": "4e5f445a-2be3-4286-858f-8c8ca063afbb",
   "metadata": {
    "scrolled": true
   },
   "outputs": [
    {
     "name": "stdout",
     "output_type": "stream",
     "text": [
      "  0%|                                                                           | 0/50 [00:00<?, ?trial/s, best loss=?]"
     ]
    },
    {
     "name": "stderr",
     "output_type": "stream",
     "text": [
      "C:\\ProgramData\\anaconda3\\Lib\\site-packages\\lightgbm\\sklearn.py:726: UserWarning:\n",
      "\n",
      "'early_stopping_rounds' argument is deprecated and will be removed in a future release of LightGBM. Pass 'early_stopping()' callback via 'callbacks' argument instead.\n",
      "\n",
      "\n",
      "C:\\ProgramData\\anaconda3\\Lib\\site-packages\\lightgbm\\sklearn.py:736: UserWarning:\n",
      "\n",
      "'verbose' argument is deprecated and will be removed in a future release of LightGBM. Pass 'log_evaluation()' callback via 'callbacks' argument instead.\n",
      "\n",
      "\n",
      "C:\\ProgramData\\anaconda3\\Lib\\site-packages\\lightgbm\\sklearn.py:726: UserWarning:\n",
      "\n",
      "'early_stopping_rounds' argument is deprecated and will be removed in a future release of LightGBM. Pass 'early_stopping()' callback via 'callbacks' argument instead.\n",
      "\n",
      "\n",
      "C:\\ProgramData\\anaconda3\\Lib\\site-packages\\lightgbm\\sklearn.py:736: UserWarning:\n",
      "\n",
      "'verbose' argument is deprecated and will be removed in a future release of LightGBM. Pass 'log_evaluation()' callback via 'callbacks' argument instead.\n",
      "\n",
      "\n",
      "C:\\ProgramData\\anaconda3\\Lib\\site-packages\\lightgbm\\sklearn.py:726: UserWarning:\n",
      "\n",
      "'early_stopping_rounds' argument is deprecated and will be removed in a future release of LightGBM. Pass 'early_stopping()' callback via 'callbacks' argument instead.\n",
      "\n",
      "\n",
      "C:\\ProgramData\\anaconda3\\Lib\\site-packages\\lightgbm\\sklearn.py:736: UserWarning:\n",
      "\n",
      "'verbose' argument is deprecated and will be removed in a future release of LightGBM. Pass 'log_evaluation()' callback via 'callbacks' argument instead.\n",
      "\n",
      "\n"
     ]
    },
    {
     "name": "stdout",
     "output_type": "stream",
     "text": [
      "  2%|▉                                               | 1/50 [00:00<00:28,  1.73trial/s, best loss: -0.9518927728051049]"
     ]
    },
    {
     "name": "stderr",
     "output_type": "stream",
     "text": [
      "C:\\ProgramData\\anaconda3\\Lib\\site-packages\\lightgbm\\sklearn.py:726: UserWarning:\n",
      "\n",
      "'early_stopping_rounds' argument is deprecated and will be removed in a future release of LightGBM. Pass 'early_stopping()' callback via 'callbacks' argument instead.\n",
      "\n",
      "\n",
      "C:\\ProgramData\\anaconda3\\Lib\\site-packages\\lightgbm\\sklearn.py:736: UserWarning:\n",
      "\n",
      "'verbose' argument is deprecated and will be removed in a future release of LightGBM. Pass 'log_evaluation()' callback via 'callbacks' argument instead.\n",
      "\n",
      "\n",
      "C:\\ProgramData\\anaconda3\\Lib\\site-packages\\lightgbm\\sklearn.py:726: UserWarning:\n",
      "\n",
      "'early_stopping_rounds' argument is deprecated and will be removed in a future release of LightGBM. Pass 'early_stopping()' callback via 'callbacks' argument instead.\n",
      "\n",
      "\n",
      "C:\\ProgramData\\anaconda3\\Lib\\site-packages\\lightgbm\\sklearn.py:736: UserWarning:\n",
      "\n",
      "'verbose' argument is deprecated and will be removed in a future release of LightGBM. Pass 'log_evaluation()' callback via 'callbacks' argument instead.\n",
      "\n",
      "\n",
      "C:\\ProgramData\\anaconda3\\Lib\\site-packages\\lightgbm\\sklearn.py:726: UserWarning:\n",
      "\n",
      "'early_stopping_rounds' argument is deprecated and will be removed in a future release of LightGBM. Pass 'early_stopping()' callback via 'callbacks' argument instead.\n",
      "\n",
      "\n",
      "C:\\ProgramData\\anaconda3\\Lib\\site-packages\\lightgbm\\sklearn.py:736: UserWarning:\n",
      "\n",
      "'verbose' argument is deprecated and will be removed in a future release of LightGBM. Pass 'log_evaluation()' callback via 'callbacks' argument instead.\n",
      "\n",
      "\n"
     ]
    },
    {
     "name": "stdout",
     "output_type": "stream",
     "text": [
      "  4%|█▉                                              | 2/50 [00:01<00:47,  1.02trial/s, best loss: -0.9637670190289113]"
     ]
    },
    {
     "name": "stderr",
     "output_type": "stream",
     "text": [
      "C:\\ProgramData\\anaconda3\\Lib\\site-packages\\lightgbm\\sklearn.py:726: UserWarning:\n",
      "\n",
      "'early_stopping_rounds' argument is deprecated and will be removed in a future release of LightGBM. Pass 'early_stopping()' callback via 'callbacks' argument instead.\n",
      "\n",
      "\n",
      "C:\\ProgramData\\anaconda3\\Lib\\site-packages\\lightgbm\\sklearn.py:736: UserWarning:\n",
      "\n",
      "'verbose' argument is deprecated and will be removed in a future release of LightGBM. Pass 'log_evaluation()' callback via 'callbacks' argument instead.\n",
      "\n",
      "\n",
      "C:\\ProgramData\\anaconda3\\Lib\\site-packages\\lightgbm\\sklearn.py:726: UserWarning:\n",
      "\n",
      "'early_stopping_rounds' argument is deprecated and will be removed in a future release of LightGBM. Pass 'early_stopping()' callback via 'callbacks' argument instead.\n",
      "\n",
      "\n",
      "C:\\ProgramData\\anaconda3\\Lib\\site-packages\\lightgbm\\sklearn.py:736: UserWarning:\n",
      "\n",
      "'verbose' argument is deprecated and will be removed in a future release of LightGBM. Pass 'log_evaluation()' callback via 'callbacks' argument instead.\n",
      "\n",
      "\n",
      "C:\\ProgramData\\anaconda3\\Lib\\site-packages\\lightgbm\\sklearn.py:726: UserWarning:\n",
      "\n",
      "'early_stopping_rounds' argument is deprecated and will be removed in a future release of LightGBM. Pass 'early_stopping()' callback via 'callbacks' argument instead.\n",
      "\n",
      "\n",
      "C:\\ProgramData\\anaconda3\\Lib\\site-packages\\lightgbm\\sklearn.py:736: UserWarning:\n",
      "\n",
      "'verbose' argument is deprecated and will be removed in a future release of LightGBM. Pass 'log_evaluation()' callback via 'callbacks' argument instead.\n",
      "\n",
      "\n"
     ]
    },
    {
     "name": "stdout",
     "output_type": "stream",
     "text": [
      "  6%|██▉                                             | 3/50 [00:02<00:46,  1.02trial/s, best loss: -0.9637670190289113]"
     ]
    },
    {
     "name": "stderr",
     "output_type": "stream",
     "text": [
      "C:\\ProgramData\\anaconda3\\Lib\\site-packages\\lightgbm\\sklearn.py:726: UserWarning:\n",
      "\n",
      "'early_stopping_rounds' argument is deprecated and will be removed in a future release of LightGBM. Pass 'early_stopping()' callback via 'callbacks' argument instead.\n",
      "\n",
      "\n",
      "C:\\ProgramData\\anaconda3\\Lib\\site-packages\\lightgbm\\sklearn.py:736: UserWarning:\n",
      "\n",
      "'verbose' argument is deprecated and will be removed in a future release of LightGBM. Pass 'log_evaluation()' callback via 'callbacks' argument instead.\n",
      "\n",
      "\n",
      "C:\\ProgramData\\anaconda3\\Lib\\site-packages\\lightgbm\\sklearn.py:726: UserWarning:\n",
      "\n",
      "'early_stopping_rounds' argument is deprecated and will be removed in a future release of LightGBM. Pass 'early_stopping()' callback via 'callbacks' argument instead.\n",
      "\n",
      "\n",
      "C:\\ProgramData\\anaconda3\\Lib\\site-packages\\lightgbm\\sklearn.py:736: UserWarning:\n",
      "\n",
      "'verbose' argument is deprecated and will be removed in a future release of LightGBM. Pass 'log_evaluation()' callback via 'callbacks' argument instead.\n",
      "\n",
      "\n",
      "C:\\ProgramData\\anaconda3\\Lib\\site-packages\\lightgbm\\sklearn.py:726: UserWarning:\n",
      "\n",
      "'early_stopping_rounds' argument is deprecated and will be removed in a future release of LightGBM. Pass 'early_stopping()' callback via 'callbacks' argument instead.\n",
      "\n",
      "\n",
      "C:\\ProgramData\\anaconda3\\Lib\\site-packages\\lightgbm\\sklearn.py:736: UserWarning:\n",
      "\n",
      "'verbose' argument is deprecated and will be removed in a future release of LightGBM. Pass 'log_evaluation()' callback via 'callbacks' argument instead.\n",
      "\n",
      "\n"
     ]
    },
    {
     "name": "stdout",
     "output_type": "stream",
     "text": [
      "  8%|███▊                                            | 4/50 [00:03<00:46,  1.02s/trial, best loss: -0.9642672023701038]"
     ]
    },
    {
     "name": "stderr",
     "output_type": "stream",
     "text": [
      "C:\\ProgramData\\anaconda3\\Lib\\site-packages\\lightgbm\\sklearn.py:726: UserWarning:\n",
      "\n",
      "'early_stopping_rounds' argument is deprecated and will be removed in a future release of LightGBM. Pass 'early_stopping()' callback via 'callbacks' argument instead.\n",
      "\n",
      "\n",
      "C:\\ProgramData\\anaconda3\\Lib\\site-packages\\lightgbm\\sklearn.py:736: UserWarning:\n",
      "\n",
      "'verbose' argument is deprecated and will be removed in a future release of LightGBM. Pass 'log_evaluation()' callback via 'callbacks' argument instead.\n",
      "\n",
      "\n",
      "C:\\ProgramData\\anaconda3\\Lib\\site-packages\\lightgbm\\sklearn.py:726: UserWarning:\n",
      "\n",
      "'early_stopping_rounds' argument is deprecated and will be removed in a future release of LightGBM. Pass 'early_stopping()' callback via 'callbacks' argument instead.\n",
      "\n",
      "\n",
      "C:\\ProgramData\\anaconda3\\Lib\\site-packages\\lightgbm\\sklearn.py:736: UserWarning:\n",
      "\n",
      "'verbose' argument is deprecated and will be removed in a future release of LightGBM. Pass 'log_evaluation()' callback via 'callbacks' argument instead.\n",
      "\n",
      "\n"
     ]
    },
    {
     "name": "stdout",
     "output_type": "stream",
     "text": [
      " 10%|████▊                                           | 5/50 [00:04<00:37,  1.21trial/s, best loss: -0.9642672023701038]"
     ]
    },
    {
     "name": "stderr",
     "output_type": "stream",
     "text": [
      "C:\\ProgramData\\anaconda3\\Lib\\site-packages\\lightgbm\\sklearn.py:726: UserWarning:\n",
      "\n",
      "'early_stopping_rounds' argument is deprecated and will be removed in a future release of LightGBM. Pass 'early_stopping()' callback via 'callbacks' argument instead.\n",
      "\n",
      "\n",
      "C:\\ProgramData\\anaconda3\\Lib\\site-packages\\lightgbm\\sklearn.py:736: UserWarning:\n",
      "\n",
      "'verbose' argument is deprecated and will be removed in a future release of LightGBM. Pass 'log_evaluation()' callback via 'callbacks' argument instead.\n",
      "\n",
      "\n",
      "C:\\ProgramData\\anaconda3\\Lib\\site-packages\\lightgbm\\sklearn.py:726: UserWarning:\n",
      "\n",
      "'early_stopping_rounds' argument is deprecated and will be removed in a future release of LightGBM. Pass 'early_stopping()' callback via 'callbacks' argument instead.\n",
      "\n",
      "\n",
      "C:\\ProgramData\\anaconda3\\Lib\\site-packages\\lightgbm\\sklearn.py:736: UserWarning:\n",
      "\n",
      "'verbose' argument is deprecated and will be removed in a future release of LightGBM. Pass 'log_evaluation()' callback via 'callbacks' argument instead.\n",
      "\n",
      "\n",
      "C:\\ProgramData\\anaconda3\\Lib\\site-packages\\lightgbm\\sklearn.py:726: UserWarning:\n",
      "\n",
      "'early_stopping_rounds' argument is deprecated and will be removed in a future release of LightGBM. Pass 'early_stopping()' callback via 'callbacks' argument instead.\n",
      "\n",
      "\n",
      "C:\\ProgramData\\anaconda3\\Lib\\site-packages\\lightgbm\\sklearn.py:736: UserWarning:\n",
      "\n",
      "'verbose' argument is deprecated and will be removed in a future release of LightGBM. Pass 'log_evaluation()' callback via 'callbacks' argument instead.\n",
      "\n",
      "\n",
      "C:\\ProgramData\\anaconda3\\Lib\\site-packages\\lightgbm\\sklearn.py:726: UserWarning:\n",
      "\n",
      "'early_stopping_rounds' argument is deprecated and will be removed in a future release of LightGBM. Pass 'early_stopping()' callback via 'callbacks' argument instead.\n",
      "\n",
      "\n",
      "C:\\ProgramData\\anaconda3\\Lib\\site-packages\\lightgbm\\sklearn.py:736: UserWarning:\n",
      "\n",
      "'verbose' argument is deprecated and will be removed in a future release of LightGBM. Pass 'log_evaluation()' callback via 'callbacks' argument instead.\n",
      "\n",
      "\n"
     ]
    },
    {
     "name": "stdout",
     "output_type": "stream",
     "text": [
      " 12%|█████▊                                          | 6/50 [00:04<00:32,  1.35trial/s, best loss: -0.9642672023701038]"
     ]
    },
    {
     "name": "stderr",
     "output_type": "stream",
     "text": [
      "C:\\ProgramData\\anaconda3\\Lib\\site-packages\\lightgbm\\sklearn.py:726: UserWarning:\n",
      "\n",
      "'early_stopping_rounds' argument is deprecated and will be removed in a future release of LightGBM. Pass 'early_stopping()' callback via 'callbacks' argument instead.\n",
      "\n",
      "\n",
      "C:\\ProgramData\\anaconda3\\Lib\\site-packages\\lightgbm\\sklearn.py:736: UserWarning:\n",
      "\n",
      "'verbose' argument is deprecated and will be removed in a future release of LightGBM. Pass 'log_evaluation()' callback via 'callbacks' argument instead.\n",
      "\n",
      "\n",
      "C:\\ProgramData\\anaconda3\\Lib\\site-packages\\lightgbm\\sklearn.py:726: UserWarning:\n",
      "\n",
      "'early_stopping_rounds' argument is deprecated and will be removed in a future release of LightGBM. Pass 'early_stopping()' callback via 'callbacks' argument instead.\n",
      "\n",
      "\n",
      "C:\\ProgramData\\anaconda3\\Lib\\site-packages\\lightgbm\\sklearn.py:736: UserWarning:\n",
      "\n",
      "'verbose' argument is deprecated and will be removed in a future release of LightGBM. Pass 'log_evaluation()' callback via 'callbacks' argument instead.\n",
      "\n",
      "\n"
     ]
    },
    {
     "name": "stdout",
     "output_type": "stream",
     "text": [
      " 14%|██████▋                                         | 7/50 [00:05<00:27,  1.56trial/s, best loss: -0.9642672023701038]"
     ]
    },
    {
     "name": "stderr",
     "output_type": "stream",
     "text": [
      "C:\\ProgramData\\anaconda3\\Lib\\site-packages\\lightgbm\\sklearn.py:726: UserWarning:\n",
      "\n",
      "'early_stopping_rounds' argument is deprecated and will be removed in a future release of LightGBM. Pass 'early_stopping()' callback via 'callbacks' argument instead.\n",
      "\n",
      "\n",
      "C:\\ProgramData\\anaconda3\\Lib\\site-packages\\lightgbm\\sklearn.py:736: UserWarning:\n",
      "\n",
      "'verbose' argument is deprecated and will be removed in a future release of LightGBM. Pass 'log_evaluation()' callback via 'callbacks' argument instead.\n",
      "\n",
      "\n",
      "C:\\ProgramData\\anaconda3\\Lib\\site-packages\\lightgbm\\sklearn.py:726: UserWarning:\n",
      "\n",
      "'early_stopping_rounds' argument is deprecated and will be removed in a future release of LightGBM. Pass 'early_stopping()' callback via 'callbacks' argument instead.\n",
      "\n",
      "\n",
      "C:\\ProgramData\\anaconda3\\Lib\\site-packages\\lightgbm\\sklearn.py:736: UserWarning:\n",
      "\n",
      "'verbose' argument is deprecated and will be removed in a future release of LightGBM. Pass 'log_evaluation()' callback via 'callbacks' argument instead.\n",
      "\n",
      "\n",
      "C:\\ProgramData\\anaconda3\\Lib\\site-packages\\lightgbm\\sklearn.py:726: UserWarning:\n",
      "\n",
      "'early_stopping_rounds' argument is deprecated and will be removed in a future release of LightGBM. Pass 'early_stopping()' callback via 'callbacks' argument instead.\n",
      "\n",
      "\n",
      "C:\\ProgramData\\anaconda3\\Lib\\site-packages\\lightgbm\\sklearn.py:736: UserWarning:\n",
      "\n",
      "'verbose' argument is deprecated and will be removed in a future release of LightGBM. Pass 'log_evaluation()' callback via 'callbacks' argument instead.\n",
      "\n",
      "\n",
      "C:\\ProgramData\\anaconda3\\Lib\\site-packages\\lightgbm\\sklearn.py:726: UserWarning:\n",
      "\n",
      "'early_stopping_rounds' argument is deprecated and will be removed in a future release of LightGBM. Pass 'early_stopping()' callback via 'callbacks' argument instead.\n",
      "\n",
      "\n",
      "C:\\ProgramData\\anaconda3\\Lib\\site-packages\\lightgbm\\sklearn.py:736: UserWarning:\n",
      "\n",
      "'verbose' argument is deprecated and will be removed in a future release of LightGBM. Pass 'log_evaluation()' callback via 'callbacks' argument instead.\n",
      "\n",
      "\n"
     ]
    },
    {
     "name": "stdout",
     "output_type": "stream",
     "text": [
      " 16%|███████▋                                        | 8/50 [00:06<00:29,  1.42trial/s, best loss: -0.9647293714438719]"
     ]
    },
    {
     "name": "stderr",
     "output_type": "stream",
     "text": [
      "C:\\ProgramData\\anaconda3\\Lib\\site-packages\\lightgbm\\sklearn.py:726: UserWarning:\n",
      "\n",
      "'early_stopping_rounds' argument is deprecated and will be removed in a future release of LightGBM. Pass 'early_stopping()' callback via 'callbacks' argument instead.\n",
      "\n",
      "\n",
      "C:\\ProgramData\\anaconda3\\Lib\\site-packages\\lightgbm\\sklearn.py:736: UserWarning:\n",
      "\n",
      "'verbose' argument is deprecated and will be removed in a future release of LightGBM. Pass 'log_evaluation()' callback via 'callbacks' argument instead.\n",
      "\n",
      "\n",
      "C:\\ProgramData\\anaconda3\\Lib\\site-packages\\lightgbm\\sklearn.py:726: UserWarning:\n",
      "\n",
      "'early_stopping_rounds' argument is deprecated and will be removed in a future release of LightGBM. Pass 'early_stopping()' callback via 'callbacks' argument instead.\n",
      "\n",
      "\n",
      "C:\\ProgramData\\anaconda3\\Lib\\site-packages\\lightgbm\\sklearn.py:736: UserWarning:\n",
      "\n",
      "'verbose' argument is deprecated and will be removed in a future release of LightGBM. Pass 'log_evaluation()' callback via 'callbacks' argument instead.\n",
      "\n",
      "\n"
     ]
    },
    {
     "name": "stdout",
     "output_type": "stream",
     "text": [
      " 18%|████████▋                                       | 9/50 [00:06<00:29,  1.41trial/s, best loss: -0.9647293714438719]"
     ]
    },
    {
     "name": "stderr",
     "output_type": "stream",
     "text": [
      "C:\\ProgramData\\anaconda3\\Lib\\site-packages\\lightgbm\\sklearn.py:726: UserWarning:\n",
      "\n",
      "'early_stopping_rounds' argument is deprecated and will be removed in a future release of LightGBM. Pass 'early_stopping()' callback via 'callbacks' argument instead.\n",
      "\n",
      "\n",
      "C:\\ProgramData\\anaconda3\\Lib\\site-packages\\lightgbm\\sklearn.py:736: UserWarning:\n",
      "\n",
      "'verbose' argument is deprecated and will be removed in a future release of LightGBM. Pass 'log_evaluation()' callback via 'callbacks' argument instead.\n",
      "\n",
      "\n",
      "C:\\ProgramData\\anaconda3\\Lib\\site-packages\\lightgbm\\sklearn.py:726: UserWarning:\n",
      "\n",
      "'early_stopping_rounds' argument is deprecated and will be removed in a future release of LightGBM. Pass 'early_stopping()' callback via 'callbacks' argument instead.\n",
      "\n",
      "\n",
      "C:\\ProgramData\\anaconda3\\Lib\\site-packages\\lightgbm\\sklearn.py:736: UserWarning:\n",
      "\n",
      "'verbose' argument is deprecated and will be removed in a future release of LightGBM. Pass 'log_evaluation()' callback via 'callbacks' argument instead.\n",
      "\n",
      "\n",
      "C:\\ProgramData\\anaconda3\\Lib\\site-packages\\lightgbm\\sklearn.py:726: UserWarning:\n",
      "\n",
      "'early_stopping_rounds' argument is deprecated and will be removed in a future release of LightGBM. Pass 'early_stopping()' callback via 'callbacks' argument instead.\n",
      "\n",
      "\n",
      "C:\\ProgramData\\anaconda3\\Lib\\site-packages\\lightgbm\\sklearn.py:736: UserWarning:\n",
      "\n",
      "'verbose' argument is deprecated and will be removed in a future release of LightGBM. Pass 'log_evaluation()' callback via 'callbacks' argument instead.\n",
      "\n",
      "\n"
     ]
    },
    {
     "name": "stdout",
     "output_type": "stream",
     "text": [
      " 20%|█████████▍                                     | 10/50 [00:07<00:28,  1.41trial/s, best loss: -0.9647293714438719]"
     ]
    },
    {
     "name": "stderr",
     "output_type": "stream",
     "text": [
      "C:\\ProgramData\\anaconda3\\Lib\\site-packages\\lightgbm\\sklearn.py:726: UserWarning:\n",
      "\n",
      "'early_stopping_rounds' argument is deprecated and will be removed in a future release of LightGBM. Pass 'early_stopping()' callback via 'callbacks' argument instead.\n",
      "\n",
      "\n",
      "C:\\ProgramData\\anaconda3\\Lib\\site-packages\\lightgbm\\sklearn.py:736: UserWarning:\n",
      "\n",
      "'verbose' argument is deprecated and will be removed in a future release of LightGBM. Pass 'log_evaluation()' callback via 'callbacks' argument instead.\n",
      "\n",
      "\n",
      "C:\\ProgramData\\anaconda3\\Lib\\site-packages\\lightgbm\\sklearn.py:726: UserWarning:\n",
      "\n",
      "'early_stopping_rounds' argument is deprecated and will be removed in a future release of LightGBM. Pass 'early_stopping()' callback via 'callbacks' argument instead.\n",
      "\n",
      "\n",
      "C:\\ProgramData\\anaconda3\\Lib\\site-packages\\lightgbm\\sklearn.py:736: UserWarning:\n",
      "\n",
      "'verbose' argument is deprecated and will be removed in a future release of LightGBM. Pass 'log_evaluation()' callback via 'callbacks' argument instead.\n",
      "\n",
      "\n",
      "C:\\ProgramData\\anaconda3\\Lib\\site-packages\\lightgbm\\sklearn.py:726: UserWarning:\n",
      "\n",
      "'early_stopping_rounds' argument is deprecated and will be removed in a future release of LightGBM. Pass 'early_stopping()' callback via 'callbacks' argument instead.\n",
      "\n",
      "\n",
      "C:\\ProgramData\\anaconda3\\Lib\\site-packages\\lightgbm\\sklearn.py:736: UserWarning:\n",
      "\n",
      "'verbose' argument is deprecated and will be removed in a future release of LightGBM. Pass 'log_evaluation()' callback via 'callbacks' argument instead.\n",
      "\n",
      "\n",
      "C:\\ProgramData\\anaconda3\\Lib\\site-packages\\lightgbm\\sklearn.py:726: UserWarning:\n",
      "\n",
      "'early_stopping_rounds' argument is deprecated and will be removed in a future release of LightGBM. Pass 'early_stopping()' callback via 'callbacks' argument instead.\n",
      "\n",
      "\n",
      "C:\\ProgramData\\anaconda3\\Lib\\site-packages\\lightgbm\\sklearn.py:736: UserWarning:\n",
      "\n",
      "'verbose' argument is deprecated and will be removed in a future release of LightGBM. Pass 'log_evaluation()' callback via 'callbacks' argument instead.\n",
      "\n",
      "\n"
     ]
    },
    {
     "name": "stdout",
     "output_type": "stream",
     "text": [
      " 22%|██████████▎                                    | 11/50 [00:08<00:28,  1.37trial/s, best loss: -0.9666191016209241]"
     ]
    },
    {
     "name": "stderr",
     "output_type": "stream",
     "text": [
      "C:\\ProgramData\\anaconda3\\Lib\\site-packages\\lightgbm\\sklearn.py:726: UserWarning:\n",
      "\n",
      "'early_stopping_rounds' argument is deprecated and will be removed in a future release of LightGBM. Pass 'early_stopping()' callback via 'callbacks' argument instead.\n",
      "\n",
      "\n",
      "C:\\ProgramData\\anaconda3\\Lib\\site-packages\\lightgbm\\sklearn.py:736: UserWarning:\n",
      "\n",
      "'verbose' argument is deprecated and will be removed in a future release of LightGBM. Pass 'log_evaluation()' callback via 'callbacks' argument instead.\n",
      "\n",
      "\n",
      "C:\\ProgramData\\anaconda3\\Lib\\site-packages\\lightgbm\\sklearn.py:726: UserWarning:\n",
      "\n",
      "'early_stopping_rounds' argument is deprecated and will be removed in a future release of LightGBM. Pass 'early_stopping()' callback via 'callbacks' argument instead.\n",
      "\n",
      "\n",
      "C:\\ProgramData\\anaconda3\\Lib\\site-packages\\lightgbm\\sklearn.py:736: UserWarning:\n",
      "\n",
      "'verbose' argument is deprecated and will be removed in a future release of LightGBM. Pass 'log_evaluation()' callback via 'callbacks' argument instead.\n",
      "\n",
      "\n",
      "C:\\ProgramData\\anaconda3\\Lib\\site-packages\\lightgbm\\sklearn.py:726: UserWarning:\n",
      "\n",
      "'early_stopping_rounds' argument is deprecated and will be removed in a future release of LightGBM. Pass 'early_stopping()' callback via 'callbacks' argument instead.\n",
      "\n",
      "\n",
      "C:\\ProgramData\\anaconda3\\Lib\\site-packages\\lightgbm\\sklearn.py:736: UserWarning:\n",
      "\n",
      "'verbose' argument is deprecated and will be removed in a future release of LightGBM. Pass 'log_evaluation()' callback via 'callbacks' argument instead.\n",
      "\n",
      "\n"
     ]
    },
    {
     "name": "stdout",
     "output_type": "stream",
     "text": [
      " 24%|███████████▎                                   | 12/50 [00:09<00:26,  1.45trial/s, best loss: -0.9666191016209241]"
     ]
    },
    {
     "name": "stderr",
     "output_type": "stream",
     "text": [
      "C:\\ProgramData\\anaconda3\\Lib\\site-packages\\lightgbm\\sklearn.py:726: UserWarning:\n",
      "\n",
      "'early_stopping_rounds' argument is deprecated and will be removed in a future release of LightGBM. Pass 'early_stopping()' callback via 'callbacks' argument instead.\n",
      "\n",
      "\n",
      "C:\\ProgramData\\anaconda3\\Lib\\site-packages\\lightgbm\\sklearn.py:736: UserWarning:\n",
      "\n",
      "'verbose' argument is deprecated and will be removed in a future release of LightGBM. Pass 'log_evaluation()' callback via 'callbacks' argument instead.\n",
      "\n",
      "\n",
      "C:\\ProgramData\\anaconda3\\Lib\\site-packages\\lightgbm\\sklearn.py:726: UserWarning:\n",
      "\n",
      "'early_stopping_rounds' argument is deprecated and will be removed in a future release of LightGBM. Pass 'early_stopping()' callback via 'callbacks' argument instead.\n",
      "\n",
      "\n",
      "C:\\ProgramData\\anaconda3\\Lib\\site-packages\\lightgbm\\sklearn.py:736: UserWarning:\n",
      "\n",
      "'verbose' argument is deprecated and will be removed in a future release of LightGBM. Pass 'log_evaluation()' callback via 'callbacks' argument instead.\n",
      "\n",
      "\n"
     ]
    },
    {
     "name": "stdout",
     "output_type": "stream",
     "text": [
      " 26%|████████████▏                                  | 13/50 [00:09<00:23,  1.59trial/s, best loss: -0.9672995373196361]"
     ]
    },
    {
     "name": "stderr",
     "output_type": "stream",
     "text": [
      "C:\\ProgramData\\anaconda3\\Lib\\site-packages\\lightgbm\\sklearn.py:726: UserWarning:\n",
      "\n",
      "'early_stopping_rounds' argument is deprecated and will be removed in a future release of LightGBM. Pass 'early_stopping()' callback via 'callbacks' argument instead.\n",
      "\n",
      "\n",
      "C:\\ProgramData\\anaconda3\\Lib\\site-packages\\lightgbm\\sklearn.py:736: UserWarning:\n",
      "\n",
      "'verbose' argument is deprecated and will be removed in a future release of LightGBM. Pass 'log_evaluation()' callback via 'callbacks' argument instead.\n",
      "\n",
      "\n",
      "C:\\ProgramData\\anaconda3\\Lib\\site-packages\\lightgbm\\sklearn.py:726: UserWarning:\n",
      "\n",
      "'early_stopping_rounds' argument is deprecated and will be removed in a future release of LightGBM. Pass 'early_stopping()' callback via 'callbacks' argument instead.\n",
      "\n",
      "\n",
      "C:\\ProgramData\\anaconda3\\Lib\\site-packages\\lightgbm\\sklearn.py:736: UserWarning:\n",
      "\n",
      "'verbose' argument is deprecated and will be removed in a future release of LightGBM. Pass 'log_evaluation()' callback via 'callbacks' argument instead.\n",
      "\n",
      "\n",
      "C:\\ProgramData\\anaconda3\\Lib\\site-packages\\lightgbm\\sklearn.py:726: UserWarning:\n",
      "\n",
      "'early_stopping_rounds' argument is deprecated and will be removed in a future release of LightGBM. Pass 'early_stopping()' callback via 'callbacks' argument instead.\n",
      "\n",
      "\n",
      "C:\\ProgramData\\anaconda3\\Lib\\site-packages\\lightgbm\\sklearn.py:736: UserWarning:\n",
      "\n",
      "'verbose' argument is deprecated and will be removed in a future release of LightGBM. Pass 'log_evaluation()' callback via 'callbacks' argument instead.\n",
      "\n",
      "\n",
      "C:\\ProgramData\\anaconda3\\Lib\\site-packages\\lightgbm\\sklearn.py:726: UserWarning:\n",
      "\n",
      "'early_stopping_rounds' argument is deprecated and will be removed in a future release of LightGBM. Pass 'early_stopping()' callback via 'callbacks' argument instead.\n",
      "\n",
      "\n",
      "C:\\ProgramData\\anaconda3\\Lib\\site-packages\\lightgbm\\sklearn.py:736: UserWarning:\n",
      "\n",
      "'verbose' argument is deprecated and will be removed in a future release of LightGBM. Pass 'log_evaluation()' callback via 'callbacks' argument instead.\n",
      "\n",
      "\n"
     ]
    },
    {
     "name": "stdout",
     "output_type": "stream",
     "text": [
      " 28%|█████████████▏                                 | 14/50 [00:10<00:23,  1.56trial/s, best loss: -0.9672995373196361]"
     ]
    },
    {
     "name": "stderr",
     "output_type": "stream",
     "text": [
      "C:\\ProgramData\\anaconda3\\Lib\\site-packages\\lightgbm\\sklearn.py:726: UserWarning:\n",
      "\n",
      "'early_stopping_rounds' argument is deprecated and will be removed in a future release of LightGBM. Pass 'early_stopping()' callback via 'callbacks' argument instead.\n",
      "\n",
      "\n",
      "C:\\ProgramData\\anaconda3\\Lib\\site-packages\\lightgbm\\sklearn.py:736: UserWarning:\n",
      "\n",
      "'verbose' argument is deprecated and will be removed in a future release of LightGBM. Pass 'log_evaluation()' callback via 'callbacks' argument instead.\n",
      "\n",
      "\n",
      "C:\\ProgramData\\anaconda3\\Lib\\site-packages\\lightgbm\\sklearn.py:726: UserWarning:\n",
      "\n",
      "'early_stopping_rounds' argument is deprecated and will be removed in a future release of LightGBM. Pass 'early_stopping()' callback via 'callbacks' argument instead.\n",
      "\n",
      "\n",
      "C:\\ProgramData\\anaconda3\\Lib\\site-packages\\lightgbm\\sklearn.py:736: UserWarning:\n",
      "\n",
      "'verbose' argument is deprecated and will be removed in a future release of LightGBM. Pass 'log_evaluation()' callback via 'callbacks' argument instead.\n",
      "\n",
      "\n",
      "C:\\ProgramData\\anaconda3\\Lib\\site-packages\\lightgbm\\sklearn.py:726: UserWarning:\n",
      "\n",
      "'early_stopping_rounds' argument is deprecated and will be removed in a future release of LightGBM. Pass 'early_stopping()' callback via 'callbacks' argument instead.\n",
      "\n",
      "\n",
      "C:\\ProgramData\\anaconda3\\Lib\\site-packages\\lightgbm\\sklearn.py:736: UserWarning:\n",
      "\n",
      "'verbose' argument is deprecated and will be removed in a future release of LightGBM. Pass 'log_evaluation()' callback via 'callbacks' argument instead.\n",
      "\n",
      "\n"
     ]
    },
    {
     "name": "stdout",
     "output_type": "stream",
     "text": [
      " 30%|██████████████                                 | 15/50 [00:11<00:32,  1.07trial/s, best loss: -0.9672995373196361]"
     ]
    },
    {
     "name": "stderr",
     "output_type": "stream",
     "text": [
      "C:\\ProgramData\\anaconda3\\Lib\\site-packages\\lightgbm\\sklearn.py:726: UserWarning:\n",
      "\n",
      "'early_stopping_rounds' argument is deprecated and will be removed in a future release of LightGBM. Pass 'early_stopping()' callback via 'callbacks' argument instead.\n",
      "\n",
      "\n",
      "C:\\ProgramData\\anaconda3\\Lib\\site-packages\\lightgbm\\sklearn.py:736: UserWarning:\n",
      "\n",
      "'verbose' argument is deprecated and will be removed in a future release of LightGBM. Pass 'log_evaluation()' callback via 'callbacks' argument instead.\n",
      "\n",
      "\n",
      "C:\\ProgramData\\anaconda3\\Lib\\site-packages\\lightgbm\\sklearn.py:726: UserWarning:\n",
      "\n",
      "'early_stopping_rounds' argument is deprecated and will be removed in a future release of LightGBM. Pass 'early_stopping()' callback via 'callbacks' argument instead.\n",
      "\n",
      "\n",
      "C:\\ProgramData\\anaconda3\\Lib\\site-packages\\lightgbm\\sklearn.py:736: UserWarning:\n",
      "\n",
      "'verbose' argument is deprecated and will be removed in a future release of LightGBM. Pass 'log_evaluation()' callback via 'callbacks' argument instead.\n",
      "\n",
      "\n",
      "C:\\ProgramData\\anaconda3\\Lib\\site-packages\\lightgbm\\sklearn.py:726: UserWarning:\n",
      "\n",
      "'early_stopping_rounds' argument is deprecated and will be removed in a future release of LightGBM. Pass 'early_stopping()' callback via 'callbacks' argument instead.\n",
      "\n",
      "\n",
      "C:\\ProgramData\\anaconda3\\Lib\\site-packages\\lightgbm\\sklearn.py:736: UserWarning:\n",
      "\n",
      "'verbose' argument is deprecated and will be removed in a future release of LightGBM. Pass 'log_evaluation()' callback via 'callbacks' argument instead.\n",
      "\n",
      "\n"
     ]
    },
    {
     "name": "stdout",
     "output_type": "stream",
     "text": [
      " 32%|███████████████                                | 16/50 [00:12<00:29,  1.14trial/s, best loss: -0.9672995373196361]"
     ]
    },
    {
     "name": "stderr",
     "output_type": "stream",
     "text": [
      "C:\\ProgramData\\anaconda3\\Lib\\site-packages\\lightgbm\\sklearn.py:726: UserWarning:\n",
      "\n",
      "'early_stopping_rounds' argument is deprecated and will be removed in a future release of LightGBM. Pass 'early_stopping()' callback via 'callbacks' argument instead.\n",
      "\n",
      "\n",
      "C:\\ProgramData\\anaconda3\\Lib\\site-packages\\lightgbm\\sklearn.py:736: UserWarning:\n",
      "\n",
      "'verbose' argument is deprecated and will be removed in a future release of LightGBM. Pass 'log_evaluation()' callback via 'callbacks' argument instead.\n",
      "\n",
      "\n",
      "C:\\ProgramData\\anaconda3\\Lib\\site-packages\\lightgbm\\sklearn.py:726: UserWarning:\n",
      "\n",
      "'early_stopping_rounds' argument is deprecated and will be removed in a future release of LightGBM. Pass 'early_stopping()' callback via 'callbacks' argument instead.\n",
      "\n",
      "\n",
      "C:\\ProgramData\\anaconda3\\Lib\\site-packages\\lightgbm\\sklearn.py:736: UserWarning:\n",
      "\n",
      "'verbose' argument is deprecated and will be removed in a future release of LightGBM. Pass 'log_evaluation()' callback via 'callbacks' argument instead.\n",
      "\n",
      "\n",
      "C:\\ProgramData\\anaconda3\\Lib\\site-packages\\lightgbm\\sklearn.py:726: UserWarning:\n",
      "\n",
      "'early_stopping_rounds' argument is deprecated and will be removed in a future release of LightGBM. Pass 'early_stopping()' callback via 'callbacks' argument instead.\n",
      "\n",
      "\n",
      "C:\\ProgramData\\anaconda3\\Lib\\site-packages\\lightgbm\\sklearn.py:736: UserWarning:\n",
      "\n",
      "'verbose' argument is deprecated and will be removed in a future release of LightGBM. Pass 'log_evaluation()' callback via 'callbacks' argument instead.\n",
      "\n",
      "\n"
     ]
    },
    {
     "name": "stdout",
     "output_type": "stream",
     "text": [
      " 34%|███████████████▉                               | 17/50 [00:13<00:33,  1.02s/trial, best loss: -0.9672995373196361]"
     ]
    },
    {
     "name": "stderr",
     "output_type": "stream",
     "text": [
      "C:\\ProgramData\\anaconda3\\Lib\\site-packages\\lightgbm\\sklearn.py:726: UserWarning:\n",
      "\n",
      "'early_stopping_rounds' argument is deprecated and will be removed in a future release of LightGBM. Pass 'early_stopping()' callback via 'callbacks' argument instead.\n",
      "\n",
      "\n",
      "C:\\ProgramData\\anaconda3\\Lib\\site-packages\\lightgbm\\sklearn.py:736: UserWarning:\n",
      "\n",
      "'verbose' argument is deprecated and will be removed in a future release of LightGBM. Pass 'log_evaluation()' callback via 'callbacks' argument instead.\n",
      "\n",
      "\n",
      "C:\\ProgramData\\anaconda3\\Lib\\site-packages\\lightgbm\\sklearn.py:726: UserWarning:\n",
      "\n",
      "'early_stopping_rounds' argument is deprecated and will be removed in a future release of LightGBM. Pass 'early_stopping()' callback via 'callbacks' argument instead.\n",
      "\n",
      "\n",
      "C:\\ProgramData\\anaconda3\\Lib\\site-packages\\lightgbm\\sklearn.py:736: UserWarning:\n",
      "\n",
      "'verbose' argument is deprecated and will be removed in a future release of LightGBM. Pass 'log_evaluation()' callback via 'callbacks' argument instead.\n",
      "\n",
      "\n",
      "C:\\ProgramData\\anaconda3\\Lib\\site-packages\\lightgbm\\sklearn.py:726: UserWarning:\n",
      "\n",
      "'early_stopping_rounds' argument is deprecated and will be removed in a future release of LightGBM. Pass 'early_stopping()' callback via 'callbacks' argument instead.\n",
      "\n",
      "\n",
      "C:\\ProgramData\\anaconda3\\Lib\\site-packages\\lightgbm\\sklearn.py:736: UserWarning:\n",
      "\n",
      "'verbose' argument is deprecated and will be removed in a future release of LightGBM. Pass 'log_evaluation()' callback via 'callbacks' argument instead.\n",
      "\n",
      "\n"
     ]
    },
    {
     "name": "stdout",
     "output_type": "stream",
     "text": [
      " 36%|████████████████▉                              | 18/50 [00:14<00:31,  1.02trial/s, best loss: -0.9672995373196361]"
     ]
    },
    {
     "name": "stderr",
     "output_type": "stream",
     "text": [
      "C:\\ProgramData\\anaconda3\\Lib\\site-packages\\lightgbm\\sklearn.py:726: UserWarning:\n",
      "\n",
      "'early_stopping_rounds' argument is deprecated and will be removed in a future release of LightGBM. Pass 'early_stopping()' callback via 'callbacks' argument instead.\n",
      "\n",
      "\n",
      "C:\\ProgramData\\anaconda3\\Lib\\site-packages\\lightgbm\\sklearn.py:736: UserWarning:\n",
      "\n",
      "'verbose' argument is deprecated and will be removed in a future release of LightGBM. Pass 'log_evaluation()' callback via 'callbacks' argument instead.\n",
      "\n",
      "\n",
      "C:\\ProgramData\\anaconda3\\Lib\\site-packages\\lightgbm\\sklearn.py:726: UserWarning:\n",
      "\n",
      "'early_stopping_rounds' argument is deprecated and will be removed in a future release of LightGBM. Pass 'early_stopping()' callback via 'callbacks' argument instead.\n",
      "\n",
      "\n",
      "C:\\ProgramData\\anaconda3\\Lib\\site-packages\\lightgbm\\sklearn.py:736: UserWarning:\n",
      "\n",
      "'verbose' argument is deprecated and will be removed in a future release of LightGBM. Pass 'log_evaluation()' callback via 'callbacks' argument instead.\n",
      "\n",
      "\n",
      "C:\\ProgramData\\anaconda3\\Lib\\site-packages\\lightgbm\\sklearn.py:726: UserWarning:\n",
      "\n",
      "'early_stopping_rounds' argument is deprecated and will be removed in a future release of LightGBM. Pass 'early_stopping()' callback via 'callbacks' argument instead.\n",
      "\n",
      "\n",
      "C:\\ProgramData\\anaconda3\\Lib\\site-packages\\lightgbm\\sklearn.py:736: UserWarning:\n",
      "\n",
      "'verbose' argument is deprecated and will be removed in a future release of LightGBM. Pass 'log_evaluation()' callback via 'callbacks' argument instead.\n",
      "\n",
      "\n"
     ]
    },
    {
     "name": "stdout",
     "output_type": "stream",
     "text": [
      " 38%|█████████████████▊                             | 19/50 [00:15<00:28,  1.08trial/s, best loss: -0.9672995373196361]"
     ]
    },
    {
     "name": "stderr",
     "output_type": "stream",
     "text": [
      "C:\\ProgramData\\anaconda3\\Lib\\site-packages\\lightgbm\\sklearn.py:726: UserWarning:\n",
      "\n",
      "'early_stopping_rounds' argument is deprecated and will be removed in a future release of LightGBM. Pass 'early_stopping()' callback via 'callbacks' argument instead.\n",
      "\n",
      "\n",
      "C:\\ProgramData\\anaconda3\\Lib\\site-packages\\lightgbm\\sklearn.py:736: UserWarning:\n",
      "\n",
      "'verbose' argument is deprecated and will be removed in a future release of LightGBM. Pass 'log_evaluation()' callback via 'callbacks' argument instead.\n",
      "\n",
      "\n",
      "C:\\ProgramData\\anaconda3\\Lib\\site-packages\\lightgbm\\sklearn.py:726: UserWarning:\n",
      "\n",
      "'early_stopping_rounds' argument is deprecated and will be removed in a future release of LightGBM. Pass 'early_stopping()' callback via 'callbacks' argument instead.\n",
      "\n",
      "\n",
      "C:\\ProgramData\\anaconda3\\Lib\\site-packages\\lightgbm\\sklearn.py:736: UserWarning:\n",
      "\n",
      "'verbose' argument is deprecated and will be removed in a future release of LightGBM. Pass 'log_evaluation()' callback via 'callbacks' argument instead.\n",
      "\n",
      "\n"
     ]
    },
    {
     "name": "stdout",
     "output_type": "stream",
     "text": [
      " 40%|██████████████████▊                            | 20/50 [00:16<00:23,  1.28trial/s, best loss: -0.9672995373196361]"
     ]
    },
    {
     "name": "stderr",
     "output_type": "stream",
     "text": [
      "C:\\ProgramData\\anaconda3\\Lib\\site-packages\\lightgbm\\sklearn.py:726: UserWarning:\n",
      "\n",
      "'early_stopping_rounds' argument is deprecated and will be removed in a future release of LightGBM. Pass 'early_stopping()' callback via 'callbacks' argument instead.\n",
      "\n",
      "\n",
      "C:\\ProgramData\\anaconda3\\Lib\\site-packages\\lightgbm\\sklearn.py:736: UserWarning:\n",
      "\n",
      "'verbose' argument is deprecated and will be removed in a future release of LightGBM. Pass 'log_evaluation()' callback via 'callbacks' argument instead.\n",
      "\n",
      "\n",
      "C:\\ProgramData\\anaconda3\\Lib\\site-packages\\lightgbm\\sklearn.py:726: UserWarning:\n",
      "\n",
      "'early_stopping_rounds' argument is deprecated and will be removed in a future release of LightGBM. Pass 'early_stopping()' callback via 'callbacks' argument instead.\n",
      "\n",
      "\n",
      "C:\\ProgramData\\anaconda3\\Lib\\site-packages\\lightgbm\\sklearn.py:736: UserWarning:\n",
      "\n",
      "'verbose' argument is deprecated and will be removed in a future release of LightGBM. Pass 'log_evaluation()' callback via 'callbacks' argument instead.\n",
      "\n",
      "\n",
      "C:\\ProgramData\\anaconda3\\Lib\\site-packages\\lightgbm\\sklearn.py:726: UserWarning:\n",
      "\n",
      "'early_stopping_rounds' argument is deprecated and will be removed in a future release of LightGBM. Pass 'early_stopping()' callback via 'callbacks' argument instead.\n",
      "\n",
      "\n",
      "C:\\ProgramData\\anaconda3\\Lib\\site-packages\\lightgbm\\sklearn.py:736: UserWarning:\n",
      "\n",
      "'verbose' argument is deprecated and will be removed in a future release of LightGBM. Pass 'log_evaluation()' callback via 'callbacks' argument instead.\n",
      "\n",
      "\n",
      "C:\\ProgramData\\anaconda3\\Lib\\site-packages\\lightgbm\\sklearn.py:726: UserWarning:\n",
      "\n",
      "'early_stopping_rounds' argument is deprecated and will be removed in a future release of LightGBM. Pass 'early_stopping()' callback via 'callbacks' argument instead.\n",
      "\n",
      "\n",
      "C:\\ProgramData\\anaconda3\\Lib\\site-packages\\lightgbm\\sklearn.py:736: UserWarning:\n",
      "\n",
      "'verbose' argument is deprecated and will be removed in a future release of LightGBM. Pass 'log_evaluation()' callback via 'callbacks' argument instead.\n",
      "\n",
      "\n"
     ]
    },
    {
     "name": "stdout",
     "output_type": "stream",
     "text": [
      " 42%|███████████████████▋                           | 21/50 [00:16<00:19,  1.48trial/s, best loss: -0.9672995373196361]"
     ]
    },
    {
     "name": "stderr",
     "output_type": "stream",
     "text": [
      "C:\\ProgramData\\anaconda3\\Lib\\site-packages\\lightgbm\\sklearn.py:726: UserWarning:\n",
      "\n",
      "'early_stopping_rounds' argument is deprecated and will be removed in a future release of LightGBM. Pass 'early_stopping()' callback via 'callbacks' argument instead.\n",
      "\n",
      "\n",
      "C:\\ProgramData\\anaconda3\\Lib\\site-packages\\lightgbm\\sklearn.py:736: UserWarning:\n",
      "\n",
      "'verbose' argument is deprecated and will be removed in a future release of LightGBM. Pass 'log_evaluation()' callback via 'callbacks' argument instead.\n",
      "\n",
      "\n",
      "C:\\ProgramData\\anaconda3\\Lib\\site-packages\\lightgbm\\sklearn.py:726: UserWarning:\n",
      "\n",
      "'early_stopping_rounds' argument is deprecated and will be removed in a future release of LightGBM. Pass 'early_stopping()' callback via 'callbacks' argument instead.\n",
      "\n",
      "\n",
      "C:\\ProgramData\\anaconda3\\Lib\\site-packages\\lightgbm\\sklearn.py:736: UserWarning:\n",
      "\n",
      "'verbose' argument is deprecated and will be removed in a future release of LightGBM. Pass 'log_evaluation()' callback via 'callbacks' argument instead.\n",
      "\n",
      "\n"
     ]
    },
    {
     "name": "stdout",
     "output_type": "stream",
     "text": [
      " 44%|████████████████████▋                          | 22/50 [00:16<00:16,  1.65trial/s, best loss: -0.9687207771095045]"
     ]
    },
    {
     "name": "stderr",
     "output_type": "stream",
     "text": [
      "C:\\ProgramData\\anaconda3\\Lib\\site-packages\\lightgbm\\sklearn.py:726: UserWarning:\n",
      "\n",
      "'early_stopping_rounds' argument is deprecated and will be removed in a future release of LightGBM. Pass 'early_stopping()' callback via 'callbacks' argument instead.\n",
      "\n",
      "\n",
      "C:\\ProgramData\\anaconda3\\Lib\\site-packages\\lightgbm\\sklearn.py:736: UserWarning:\n",
      "\n",
      "'verbose' argument is deprecated and will be removed in a future release of LightGBM. Pass 'log_evaluation()' callback via 'callbacks' argument instead.\n",
      "\n",
      "\n",
      "C:\\ProgramData\\anaconda3\\Lib\\site-packages\\lightgbm\\sklearn.py:726: UserWarning:\n",
      "\n",
      "'early_stopping_rounds' argument is deprecated and will be removed in a future release of LightGBM. Pass 'early_stopping()' callback via 'callbacks' argument instead.\n",
      "\n",
      "\n",
      "C:\\ProgramData\\anaconda3\\Lib\\site-packages\\lightgbm\\sklearn.py:736: UserWarning:\n",
      "\n",
      "'verbose' argument is deprecated and will be removed in a future release of LightGBM. Pass 'log_evaluation()' callback via 'callbacks' argument instead.\n",
      "\n",
      "\n",
      "C:\\ProgramData\\anaconda3\\Lib\\site-packages\\lightgbm\\sklearn.py:726: UserWarning:\n",
      "\n",
      "'early_stopping_rounds' argument is deprecated and will be removed in a future release of LightGBM. Pass 'early_stopping()' callback via 'callbacks' argument instead.\n",
      "\n",
      "\n",
      "C:\\ProgramData\\anaconda3\\Lib\\site-packages\\lightgbm\\sklearn.py:736: UserWarning:\n",
      "\n",
      "'verbose' argument is deprecated and will be removed in a future release of LightGBM. Pass 'log_evaluation()' callback via 'callbacks' argument instead.\n",
      "\n",
      "\n",
      "C:\\ProgramData\\anaconda3\\Lib\\site-packages\\lightgbm\\sklearn.py:726: UserWarning:\n",
      "\n",
      "'early_stopping_rounds' argument is deprecated and will be removed in a future release of LightGBM. Pass 'early_stopping()' callback via 'callbacks' argument instead.\n",
      "\n",
      "\n",
      "C:\\ProgramData\\anaconda3\\Lib\\site-packages\\lightgbm\\sklearn.py:736: UserWarning:\n",
      "\n",
      "'verbose' argument is deprecated and will be removed in a future release of LightGBM. Pass 'log_evaluation()' callback via 'callbacks' argument instead.\n",
      "\n",
      "\n"
     ]
    },
    {
     "name": "stdout",
     "output_type": "stream",
     "text": [
      " 46%|█████████████████████▌                         | 23/50 [00:17<00:18,  1.45trial/s, best loss: -0.9687207771095045]"
     ]
    },
    {
     "name": "stderr",
     "output_type": "stream",
     "text": [
      "C:\\ProgramData\\anaconda3\\Lib\\site-packages\\lightgbm\\sklearn.py:726: UserWarning:\n",
      "\n",
      "'early_stopping_rounds' argument is deprecated and will be removed in a future release of LightGBM. Pass 'early_stopping()' callback via 'callbacks' argument instead.\n",
      "\n",
      "\n",
      "C:\\ProgramData\\anaconda3\\Lib\\site-packages\\lightgbm\\sklearn.py:736: UserWarning:\n",
      "\n",
      "'verbose' argument is deprecated and will be removed in a future release of LightGBM. Pass 'log_evaluation()' callback via 'callbacks' argument instead.\n",
      "\n",
      "\n",
      "C:\\ProgramData\\anaconda3\\Lib\\site-packages\\lightgbm\\sklearn.py:726: UserWarning:\n",
      "\n",
      "'early_stopping_rounds' argument is deprecated and will be removed in a future release of LightGBM. Pass 'early_stopping()' callback via 'callbacks' argument instead.\n",
      "\n",
      "\n",
      "C:\\ProgramData\\anaconda3\\Lib\\site-packages\\lightgbm\\sklearn.py:736: UserWarning:\n",
      "\n",
      "'verbose' argument is deprecated and will be removed in a future release of LightGBM. Pass 'log_evaluation()' callback via 'callbacks' argument instead.\n",
      "\n",
      "\n",
      "C:\\ProgramData\\anaconda3\\Lib\\site-packages\\lightgbm\\sklearn.py:726: UserWarning:\n",
      "\n",
      "'early_stopping_rounds' argument is deprecated and will be removed in a future release of LightGBM. Pass 'early_stopping()' callback via 'callbacks' argument instead.\n",
      "\n",
      "\n",
      "C:\\ProgramData\\anaconda3\\Lib\\site-packages\\lightgbm\\sklearn.py:736: UserWarning:\n",
      "\n",
      "'verbose' argument is deprecated and will be removed in a future release of LightGBM. Pass 'log_evaluation()' callback via 'callbacks' argument instead.\n",
      "\n",
      "\n"
     ]
    },
    {
     "name": "stdout",
     "output_type": "stream",
     "text": [
      " 48%|██████████████████████▌                        | 24/50 [00:18<00:20,  1.26trial/s, best loss: -0.9687207771095045]"
     ]
    },
    {
     "name": "stderr",
     "output_type": "stream",
     "text": [
      "C:\\ProgramData\\anaconda3\\Lib\\site-packages\\lightgbm\\sklearn.py:726: UserWarning:\n",
      "\n",
      "'early_stopping_rounds' argument is deprecated and will be removed in a future release of LightGBM. Pass 'early_stopping()' callback via 'callbacks' argument instead.\n",
      "\n",
      "\n",
      "C:\\ProgramData\\anaconda3\\Lib\\site-packages\\lightgbm\\sklearn.py:736: UserWarning:\n",
      "\n",
      "'verbose' argument is deprecated and will be removed in a future release of LightGBM. Pass 'log_evaluation()' callback via 'callbacks' argument instead.\n",
      "\n",
      "\n",
      "C:\\ProgramData\\anaconda3\\Lib\\site-packages\\lightgbm\\sklearn.py:726: UserWarning:\n",
      "\n",
      "'early_stopping_rounds' argument is deprecated and will be removed in a future release of LightGBM. Pass 'early_stopping()' callback via 'callbacks' argument instead.\n",
      "\n",
      "\n",
      "C:\\ProgramData\\anaconda3\\Lib\\site-packages\\lightgbm\\sklearn.py:736: UserWarning:\n",
      "\n",
      "'verbose' argument is deprecated and will be removed in a future release of LightGBM. Pass 'log_evaluation()' callback via 'callbacks' argument instead.\n",
      "\n",
      "\n",
      "C:\\ProgramData\\anaconda3\\Lib\\site-packages\\lightgbm\\sklearn.py:726: UserWarning:\n",
      "\n",
      "'early_stopping_rounds' argument is deprecated and will be removed in a future release of LightGBM. Pass 'early_stopping()' callback via 'callbacks' argument instead.\n",
      "\n",
      "\n",
      "C:\\ProgramData\\anaconda3\\Lib\\site-packages\\lightgbm\\sklearn.py:736: UserWarning:\n",
      "\n",
      "'verbose' argument is deprecated and will be removed in a future release of LightGBM. Pass 'log_evaluation()' callback via 'callbacks' argument instead.\n",
      "\n",
      "\n"
     ]
    },
    {
     "name": "stdout",
     "output_type": "stream",
     "text": [
      " 50%|███████████████████████▌                       | 25/50 [00:19<00:16,  1.49trial/s, best loss: -0.9687207771095045]"
     ]
    },
    {
     "name": "stderr",
     "output_type": "stream",
     "text": [
      "C:\\ProgramData\\anaconda3\\Lib\\site-packages\\lightgbm\\sklearn.py:726: UserWarning:\n",
      "\n",
      "'early_stopping_rounds' argument is deprecated and will be removed in a future release of LightGBM. Pass 'early_stopping()' callback via 'callbacks' argument instead.\n",
      "\n",
      "\n",
      "C:\\ProgramData\\anaconda3\\Lib\\site-packages\\lightgbm\\sklearn.py:736: UserWarning:\n",
      "\n",
      "'verbose' argument is deprecated and will be removed in a future release of LightGBM. Pass 'log_evaluation()' callback via 'callbacks' argument instead.\n",
      "\n",
      "\n",
      "C:\\ProgramData\\anaconda3\\Lib\\site-packages\\lightgbm\\sklearn.py:726: UserWarning:\n",
      "\n",
      "'early_stopping_rounds' argument is deprecated and will be removed in a future release of LightGBM. Pass 'early_stopping()' callback via 'callbacks' argument instead.\n",
      "\n",
      "\n",
      "C:\\ProgramData\\anaconda3\\Lib\\site-packages\\lightgbm\\sklearn.py:736: UserWarning:\n",
      "\n",
      "'verbose' argument is deprecated and will be removed in a future release of LightGBM. Pass 'log_evaluation()' callback via 'callbacks' argument instead.\n",
      "\n",
      "\n",
      "C:\\ProgramData\\anaconda3\\Lib\\site-packages\\lightgbm\\sklearn.py:726: UserWarning:\n",
      "\n",
      "'early_stopping_rounds' argument is deprecated and will be removed in a future release of LightGBM. Pass 'early_stopping()' callback via 'callbacks' argument instead.\n",
      "\n",
      "\n",
      "C:\\ProgramData\\anaconda3\\Lib\\site-packages\\lightgbm\\sklearn.py:736: UserWarning:\n",
      "\n",
      "'verbose' argument is deprecated and will be removed in a future release of LightGBM. Pass 'log_evaluation()' callback via 'callbacks' argument instead.\n",
      "\n",
      "\n"
     ]
    },
    {
     "name": "stdout",
     "output_type": "stream",
     "text": [
      " 52%|████████████████████████▍                      | 26/50 [00:21<00:24,  1.03s/trial, best loss: -0.9687207771095045]"
     ]
    },
    {
     "name": "stderr",
     "output_type": "stream",
     "text": [
      "C:\\ProgramData\\anaconda3\\Lib\\site-packages\\lightgbm\\sklearn.py:726: UserWarning:\n",
      "\n",
      "'early_stopping_rounds' argument is deprecated and will be removed in a future release of LightGBM. Pass 'early_stopping()' callback via 'callbacks' argument instead.\n",
      "\n",
      "\n",
      "C:\\ProgramData\\anaconda3\\Lib\\site-packages\\lightgbm\\sklearn.py:736: UserWarning:\n",
      "\n",
      "'verbose' argument is deprecated and will be removed in a future release of LightGBM. Pass 'log_evaluation()' callback via 'callbacks' argument instead.\n",
      "\n",
      "\n",
      "C:\\ProgramData\\anaconda3\\Lib\\site-packages\\lightgbm\\sklearn.py:726: UserWarning:\n",
      "\n",
      "'early_stopping_rounds' argument is deprecated and will be removed in a future release of LightGBM. Pass 'early_stopping()' callback via 'callbacks' argument instead.\n",
      "\n",
      "\n",
      "C:\\ProgramData\\anaconda3\\Lib\\site-packages\\lightgbm\\sklearn.py:736: UserWarning:\n",
      "\n",
      "'verbose' argument is deprecated and will be removed in a future release of LightGBM. Pass 'log_evaluation()' callback via 'callbacks' argument instead.\n",
      "\n",
      "\n",
      "C:\\ProgramData\\anaconda3\\Lib\\site-packages\\lightgbm\\sklearn.py:726: UserWarning:\n",
      "\n",
      "'early_stopping_rounds' argument is deprecated and will be removed in a future release of LightGBM. Pass 'early_stopping()' callback via 'callbacks' argument instead.\n",
      "\n",
      "\n",
      "C:\\ProgramData\\anaconda3\\Lib\\site-packages\\lightgbm\\sklearn.py:736: UserWarning:\n",
      "\n",
      "'verbose' argument is deprecated and will be removed in a future release of LightGBM. Pass 'log_evaluation()' callback via 'callbacks' argument instead.\n",
      "\n",
      "\n"
     ]
    },
    {
     "name": "stdout",
     "output_type": "stream",
     "text": [
      " 54%|█████████████████████████▍                     | 27/50 [00:21<00:19,  1.19trial/s, best loss: -0.9687207771095045]"
     ]
    },
    {
     "name": "stderr",
     "output_type": "stream",
     "text": [
      "C:\\ProgramData\\anaconda3\\Lib\\site-packages\\lightgbm\\sklearn.py:726: UserWarning:\n",
      "\n",
      "'early_stopping_rounds' argument is deprecated and will be removed in a future release of LightGBM. Pass 'early_stopping()' callback via 'callbacks' argument instead.\n",
      "\n",
      "\n",
      "C:\\ProgramData\\anaconda3\\Lib\\site-packages\\lightgbm\\sklearn.py:736: UserWarning:\n",
      "\n",
      "'verbose' argument is deprecated and will be removed in a future release of LightGBM. Pass 'log_evaluation()' callback via 'callbacks' argument instead.\n",
      "\n",
      "\n",
      "C:\\ProgramData\\anaconda3\\Lib\\site-packages\\lightgbm\\sklearn.py:726: UserWarning:\n",
      "\n",
      "'early_stopping_rounds' argument is deprecated and will be removed in a future release of LightGBM. Pass 'early_stopping()' callback via 'callbacks' argument instead.\n",
      "\n",
      "\n",
      "C:\\ProgramData\\anaconda3\\Lib\\site-packages\\lightgbm\\sklearn.py:736: UserWarning:\n",
      "\n",
      "'verbose' argument is deprecated and will be removed in a future release of LightGBM. Pass 'log_evaluation()' callback via 'callbacks' argument instead.\n",
      "\n",
      "\n"
     ]
    },
    {
     "name": "stdout",
     "output_type": "stream",
     "text": [
      " 56%|██████████████████████████▎                    | 28/50 [00:21<00:15,  1.40trial/s, best loss: -0.9687207771095045]"
     ]
    },
    {
     "name": "stderr",
     "output_type": "stream",
     "text": [
      "C:\\ProgramData\\anaconda3\\Lib\\site-packages\\lightgbm\\sklearn.py:726: UserWarning:\n",
      "\n",
      "'early_stopping_rounds' argument is deprecated and will be removed in a future release of LightGBM. Pass 'early_stopping()' callback via 'callbacks' argument instead.\n",
      "\n",
      "\n",
      "C:\\ProgramData\\anaconda3\\Lib\\site-packages\\lightgbm\\sklearn.py:736: UserWarning:\n",
      "\n",
      "'verbose' argument is deprecated and will be removed in a future release of LightGBM. Pass 'log_evaluation()' callback via 'callbacks' argument instead.\n",
      "\n",
      "\n",
      "C:\\ProgramData\\anaconda3\\Lib\\site-packages\\lightgbm\\sklearn.py:726: UserWarning:\n",
      "\n",
      "'early_stopping_rounds' argument is deprecated and will be removed in a future release of LightGBM. Pass 'early_stopping()' callback via 'callbacks' argument instead.\n",
      "\n",
      "\n",
      "C:\\ProgramData\\anaconda3\\Lib\\site-packages\\lightgbm\\sklearn.py:736: UserWarning:\n",
      "\n",
      "'verbose' argument is deprecated and will be removed in a future release of LightGBM. Pass 'log_evaluation()' callback via 'callbacks' argument instead.\n",
      "\n",
      "\n",
      "C:\\ProgramData\\anaconda3\\Lib\\site-packages\\lightgbm\\sklearn.py:726: UserWarning:\n",
      "\n",
      "'early_stopping_rounds' argument is deprecated and will be removed in a future release of LightGBM. Pass 'early_stopping()' callback via 'callbacks' argument instead.\n",
      "\n",
      "\n",
      "C:\\ProgramData\\anaconda3\\Lib\\site-packages\\lightgbm\\sklearn.py:736: UserWarning:\n",
      "\n",
      "'verbose' argument is deprecated and will be removed in a future release of LightGBM. Pass 'log_evaluation()' callback via 'callbacks' argument instead.\n",
      "\n",
      "\n"
     ]
    },
    {
     "name": "stdout",
     "output_type": "stream",
     "text": [
      " 58%|███████████████████████████▎                   | 29/50 [00:22<00:13,  1.61trial/s, best loss: -0.9687207771095045]"
     ]
    },
    {
     "name": "stderr",
     "output_type": "stream",
     "text": [
      "C:\\ProgramData\\anaconda3\\Lib\\site-packages\\lightgbm\\sklearn.py:726: UserWarning:\n",
      "\n",
      "'early_stopping_rounds' argument is deprecated and will be removed in a future release of LightGBM. Pass 'early_stopping()' callback via 'callbacks' argument instead.\n",
      "\n",
      "\n",
      "C:\\ProgramData\\anaconda3\\Lib\\site-packages\\lightgbm\\sklearn.py:736: UserWarning:\n",
      "\n",
      "'verbose' argument is deprecated and will be removed in a future release of LightGBM. Pass 'log_evaluation()' callback via 'callbacks' argument instead.\n",
      "\n",
      "\n",
      "C:\\ProgramData\\anaconda3\\Lib\\site-packages\\lightgbm\\sklearn.py:726: UserWarning:\n",
      "\n",
      "'early_stopping_rounds' argument is deprecated and will be removed in a future release of LightGBM. Pass 'early_stopping()' callback via 'callbacks' argument instead.\n",
      "\n",
      "\n",
      "C:\\ProgramData\\anaconda3\\Lib\\site-packages\\lightgbm\\sklearn.py:736: UserWarning:\n",
      "\n",
      "'verbose' argument is deprecated and will be removed in a future release of LightGBM. Pass 'log_evaluation()' callback via 'callbacks' argument instead.\n",
      "\n",
      "\n",
      "C:\\ProgramData\\anaconda3\\Lib\\site-packages\\lightgbm\\sklearn.py:726: UserWarning:\n",
      "\n",
      "'early_stopping_rounds' argument is deprecated and will be removed in a future release of LightGBM. Pass 'early_stopping()' callback via 'callbacks' argument instead.\n",
      "\n",
      "\n",
      "C:\\ProgramData\\anaconda3\\Lib\\site-packages\\lightgbm\\sklearn.py:736: UserWarning:\n",
      "\n",
      "'verbose' argument is deprecated and will be removed in a future release of LightGBM. Pass 'log_evaluation()' callback via 'callbacks' argument instead.\n",
      "\n",
      "\n"
     ]
    },
    {
     "name": "stdout",
     "output_type": "stream",
     "text": [
      " 60%|████████████████████████████▏                  | 30/50 [00:23<00:13,  1.47trial/s, best loss: -0.9687207771095045]"
     ]
    },
    {
     "name": "stderr",
     "output_type": "stream",
     "text": [
      "C:\\ProgramData\\anaconda3\\Lib\\site-packages\\lightgbm\\sklearn.py:726: UserWarning:\n",
      "\n",
      "'early_stopping_rounds' argument is deprecated and will be removed in a future release of LightGBM. Pass 'early_stopping()' callback via 'callbacks' argument instead.\n",
      "\n",
      "\n",
      "C:\\ProgramData\\anaconda3\\Lib\\site-packages\\lightgbm\\sklearn.py:736: UserWarning:\n",
      "\n",
      "'verbose' argument is deprecated and will be removed in a future release of LightGBM. Pass 'log_evaluation()' callback via 'callbacks' argument instead.\n",
      "\n",
      "\n",
      "C:\\ProgramData\\anaconda3\\Lib\\site-packages\\lightgbm\\sklearn.py:726: UserWarning:\n",
      "\n",
      "'early_stopping_rounds' argument is deprecated and will be removed in a future release of LightGBM. Pass 'early_stopping()' callback via 'callbacks' argument instead.\n",
      "\n",
      "\n",
      "C:\\ProgramData\\anaconda3\\Lib\\site-packages\\lightgbm\\sklearn.py:736: UserWarning:\n",
      "\n",
      "'verbose' argument is deprecated and will be removed in a future release of LightGBM. Pass 'log_evaluation()' callback via 'callbacks' argument instead.\n",
      "\n",
      "\n",
      "C:\\ProgramData\\anaconda3\\Lib\\site-packages\\lightgbm\\sklearn.py:726: UserWarning:\n",
      "\n",
      "'early_stopping_rounds' argument is deprecated and will be removed in a future release of LightGBM. Pass 'early_stopping()' callback via 'callbacks' argument instead.\n",
      "\n",
      "\n",
      "C:\\ProgramData\\anaconda3\\Lib\\site-packages\\lightgbm\\sklearn.py:736: UserWarning:\n",
      "\n",
      "'verbose' argument is deprecated and will be removed in a future release of LightGBM. Pass 'log_evaluation()' callback via 'callbacks' argument instead.\n",
      "\n",
      "\n"
     ]
    },
    {
     "name": "stdout",
     "output_type": "stream",
     "text": [
      " 62%|█████████████████████████████▏                 | 31/50 [00:23<00:11,  1.59trial/s, best loss: -0.9691490975739979]"
     ]
    },
    {
     "name": "stderr",
     "output_type": "stream",
     "text": [
      "C:\\ProgramData\\anaconda3\\Lib\\site-packages\\lightgbm\\sklearn.py:726: UserWarning:\n",
      "\n",
      "'early_stopping_rounds' argument is deprecated and will be removed in a future release of LightGBM. Pass 'early_stopping()' callback via 'callbacks' argument instead.\n",
      "\n",
      "\n",
      "C:\\ProgramData\\anaconda3\\Lib\\site-packages\\lightgbm\\sklearn.py:736: UserWarning:\n",
      "\n",
      "'verbose' argument is deprecated and will be removed in a future release of LightGBM. Pass 'log_evaluation()' callback via 'callbacks' argument instead.\n",
      "\n",
      "\n",
      "C:\\ProgramData\\anaconda3\\Lib\\site-packages\\lightgbm\\sklearn.py:726: UserWarning:\n",
      "\n",
      "'early_stopping_rounds' argument is deprecated and will be removed in a future release of LightGBM. Pass 'early_stopping()' callback via 'callbacks' argument instead.\n",
      "\n",
      "\n",
      "C:\\ProgramData\\anaconda3\\Lib\\site-packages\\lightgbm\\sklearn.py:736: UserWarning:\n",
      "\n",
      "'verbose' argument is deprecated and will be removed in a future release of LightGBM. Pass 'log_evaluation()' callback via 'callbacks' argument instead.\n",
      "\n",
      "\n",
      "C:\\ProgramData\\anaconda3\\Lib\\site-packages\\lightgbm\\sklearn.py:726: UserWarning:\n",
      "\n",
      "'early_stopping_rounds' argument is deprecated and will be removed in a future release of LightGBM. Pass 'early_stopping()' callback via 'callbacks' argument instead.\n",
      "\n",
      "\n",
      "C:\\ProgramData\\anaconda3\\Lib\\site-packages\\lightgbm\\sklearn.py:736: UserWarning:\n",
      "\n",
      "'verbose' argument is deprecated and will be removed in a future release of LightGBM. Pass 'log_evaluation()' callback via 'callbacks' argument instead.\n",
      "\n",
      "\n",
      "C:\\ProgramData\\anaconda3\\Lib\\site-packages\\lightgbm\\sklearn.py:726: UserWarning:\n",
      "\n",
      "'early_stopping_rounds' argument is deprecated and will be removed in a future release of LightGBM. Pass 'early_stopping()' callback via 'callbacks' argument instead.\n",
      "\n",
      "\n",
      "C:\\ProgramData\\anaconda3\\Lib\\site-packages\\lightgbm\\sklearn.py:736: UserWarning:\n",
      "\n",
      "'verbose' argument is deprecated and will be removed in a future release of LightGBM. Pass 'log_evaluation()' callback via 'callbacks' argument instead.\n",
      "\n",
      "\n"
     ]
    },
    {
     "name": "stdout",
     "output_type": "stream",
     "text": [
      " 64%|██████████████████████████████                 | 32/50 [00:24<00:11,  1.61trial/s, best loss: -0.9691490975739979]"
     ]
    },
    {
     "name": "stderr",
     "output_type": "stream",
     "text": [
      "C:\\ProgramData\\anaconda3\\Lib\\site-packages\\lightgbm\\sklearn.py:726: UserWarning:\n",
      "\n",
      "'early_stopping_rounds' argument is deprecated and will be removed in a future release of LightGBM. Pass 'early_stopping()' callback via 'callbacks' argument instead.\n",
      "\n",
      "\n",
      "C:\\ProgramData\\anaconda3\\Lib\\site-packages\\lightgbm\\sklearn.py:736: UserWarning:\n",
      "\n",
      "'verbose' argument is deprecated and will be removed in a future release of LightGBM. Pass 'log_evaluation()' callback via 'callbacks' argument instead.\n",
      "\n",
      "\n",
      "C:\\ProgramData\\anaconda3\\Lib\\site-packages\\lightgbm\\sklearn.py:726: UserWarning:\n",
      "\n",
      "'early_stopping_rounds' argument is deprecated and will be removed in a future release of LightGBM. Pass 'early_stopping()' callback via 'callbacks' argument instead.\n",
      "\n",
      "\n",
      "C:\\ProgramData\\anaconda3\\Lib\\site-packages\\lightgbm\\sklearn.py:736: UserWarning:\n",
      "\n",
      "'verbose' argument is deprecated and will be removed in a future release of LightGBM. Pass 'log_evaluation()' callback via 'callbacks' argument instead.\n",
      "\n",
      "\n",
      "C:\\ProgramData\\anaconda3\\Lib\\site-packages\\lightgbm\\sklearn.py:726: UserWarning:\n",
      "\n",
      "'early_stopping_rounds' argument is deprecated and will be removed in a future release of LightGBM. Pass 'early_stopping()' callback via 'callbacks' argument instead.\n",
      "\n",
      "\n",
      "C:\\ProgramData\\anaconda3\\Lib\\site-packages\\lightgbm\\sklearn.py:736: UserWarning:\n",
      "\n",
      "'verbose' argument is deprecated and will be removed in a future release of LightGBM. Pass 'log_evaluation()' callback via 'callbacks' argument instead.\n",
      "\n",
      "\n"
     ]
    },
    {
     "name": "stdout",
     "output_type": "stream",
     "text": [
      " 66%|███████████████████████████████                | 33/50 [00:24<00:11,  1.54trial/s, best loss: -0.9691490975739979]"
     ]
    },
    {
     "name": "stderr",
     "output_type": "stream",
     "text": [
      "C:\\ProgramData\\anaconda3\\Lib\\site-packages\\lightgbm\\sklearn.py:726: UserWarning:\n",
      "\n",
      "'early_stopping_rounds' argument is deprecated and will be removed in a future release of LightGBM. Pass 'early_stopping()' callback via 'callbacks' argument instead.\n",
      "\n",
      "\n",
      "C:\\ProgramData\\anaconda3\\Lib\\site-packages\\lightgbm\\sklearn.py:736: UserWarning:\n",
      "\n",
      "'verbose' argument is deprecated and will be removed in a future release of LightGBM. Pass 'log_evaluation()' callback via 'callbacks' argument instead.\n",
      "\n",
      "\n",
      "C:\\ProgramData\\anaconda3\\Lib\\site-packages\\lightgbm\\sklearn.py:726: UserWarning:\n",
      "\n",
      "'early_stopping_rounds' argument is deprecated and will be removed in a future release of LightGBM. Pass 'early_stopping()' callback via 'callbacks' argument instead.\n",
      "\n",
      "\n",
      "C:\\ProgramData\\anaconda3\\Lib\\site-packages\\lightgbm\\sklearn.py:736: UserWarning:\n",
      "\n",
      "'verbose' argument is deprecated and will be removed in a future release of LightGBM. Pass 'log_evaluation()' callback via 'callbacks' argument instead.\n",
      "\n",
      "\n",
      "C:\\ProgramData\\anaconda3\\Lib\\site-packages\\lightgbm\\sklearn.py:726: UserWarning:\n",
      "\n",
      "'early_stopping_rounds' argument is deprecated and will be removed in a future release of LightGBM. Pass 'early_stopping()' callback via 'callbacks' argument instead.\n",
      "\n",
      "\n",
      "C:\\ProgramData\\anaconda3\\Lib\\site-packages\\lightgbm\\sklearn.py:736: UserWarning:\n",
      "\n",
      "'verbose' argument is deprecated and will be removed in a future release of LightGBM. Pass 'log_evaluation()' callback via 'callbacks' argument instead.\n",
      "\n",
      "\n"
     ]
    },
    {
     "name": "stdout",
     "output_type": "stream",
     "text": [
      " 68%|███████████████████████████████▉               | 34/50 [00:25<00:11,  1.37trial/s, best loss: -0.9691490975739979]"
     ]
    },
    {
     "name": "stderr",
     "output_type": "stream",
     "text": [
      "C:\\ProgramData\\anaconda3\\Lib\\site-packages\\lightgbm\\sklearn.py:726: UserWarning:\n",
      "\n",
      "'early_stopping_rounds' argument is deprecated and will be removed in a future release of LightGBM. Pass 'early_stopping()' callback via 'callbacks' argument instead.\n",
      "\n",
      "\n",
      "C:\\ProgramData\\anaconda3\\Lib\\site-packages\\lightgbm\\sklearn.py:736: UserWarning:\n",
      "\n",
      "'verbose' argument is deprecated and will be removed in a future release of LightGBM. Pass 'log_evaluation()' callback via 'callbacks' argument instead.\n",
      "\n",
      "\n",
      "C:\\ProgramData\\anaconda3\\Lib\\site-packages\\lightgbm\\sklearn.py:726: UserWarning:\n",
      "\n",
      "'early_stopping_rounds' argument is deprecated and will be removed in a future release of LightGBM. Pass 'early_stopping()' callback via 'callbacks' argument instead.\n",
      "\n",
      "\n",
      "C:\\ProgramData\\anaconda3\\Lib\\site-packages\\lightgbm\\sklearn.py:736: UserWarning:\n",
      "\n",
      "'verbose' argument is deprecated and will be removed in a future release of LightGBM. Pass 'log_evaluation()' callback via 'callbacks' argument instead.\n",
      "\n",
      "\n"
     ]
    },
    {
     "name": "stdout",
     "output_type": "stream",
     "text": [
      " 70%|████████████████████████████████▉              | 35/50 [00:26<00:09,  1.53trial/s, best loss: -0.9691490975739979]"
     ]
    },
    {
     "name": "stderr",
     "output_type": "stream",
     "text": [
      "C:\\ProgramData\\anaconda3\\Lib\\site-packages\\lightgbm\\sklearn.py:726: UserWarning:\n",
      "\n",
      "'early_stopping_rounds' argument is deprecated and will be removed in a future release of LightGBM. Pass 'early_stopping()' callback via 'callbacks' argument instead.\n",
      "\n",
      "\n",
      "C:\\ProgramData\\anaconda3\\Lib\\site-packages\\lightgbm\\sklearn.py:736: UserWarning:\n",
      "\n",
      "'verbose' argument is deprecated and will be removed in a future release of LightGBM. Pass 'log_evaluation()' callback via 'callbacks' argument instead.\n",
      "\n",
      "\n",
      "C:\\ProgramData\\anaconda3\\Lib\\site-packages\\lightgbm\\sklearn.py:726: UserWarning:\n",
      "\n",
      "'early_stopping_rounds' argument is deprecated and will be removed in a future release of LightGBM. Pass 'early_stopping()' callback via 'callbacks' argument instead.\n",
      "\n",
      "\n",
      "C:\\ProgramData\\anaconda3\\Lib\\site-packages\\lightgbm\\sklearn.py:736: UserWarning:\n",
      "\n",
      "'verbose' argument is deprecated and will be removed in a future release of LightGBM. Pass 'log_evaluation()' callback via 'callbacks' argument instead.\n",
      "\n",
      "\n",
      "C:\\ProgramData\\anaconda3\\Lib\\site-packages\\lightgbm\\sklearn.py:726: UserWarning:\n",
      "\n",
      "'early_stopping_rounds' argument is deprecated and will be removed in a future release of LightGBM. Pass 'early_stopping()' callback via 'callbacks' argument instead.\n",
      "\n",
      "\n",
      "C:\\ProgramData\\anaconda3\\Lib\\site-packages\\lightgbm\\sklearn.py:736: UserWarning:\n",
      "\n",
      "'verbose' argument is deprecated and will be removed in a future release of LightGBM. Pass 'log_evaluation()' callback via 'callbacks' argument instead.\n",
      "\n",
      "\n",
      "C:\\ProgramData\\anaconda3\\Lib\\site-packages\\lightgbm\\sklearn.py:726: UserWarning:\n",
      "\n",
      "'early_stopping_rounds' argument is deprecated and will be removed in a future release of LightGBM. Pass 'early_stopping()' callback via 'callbacks' argument instead.\n",
      "\n",
      "\n",
      "C:\\ProgramData\\anaconda3\\Lib\\site-packages\\lightgbm\\sklearn.py:736: UserWarning:\n",
      "\n",
      "'verbose' argument is deprecated and will be removed in a future release of LightGBM. Pass 'log_evaluation()' callback via 'callbacks' argument instead.\n",
      "\n",
      "\n"
     ]
    },
    {
     "name": "stdout",
     "output_type": "stream",
     "text": [
      " 72%|█████████████████████████████████▊             | 36/50 [00:27<00:10,  1.39trial/s, best loss: -0.9691490975739979]"
     ]
    },
    {
     "name": "stderr",
     "output_type": "stream",
     "text": [
      "C:\\ProgramData\\anaconda3\\Lib\\site-packages\\lightgbm\\sklearn.py:726: UserWarning:\n",
      "\n",
      "'early_stopping_rounds' argument is deprecated and will be removed in a future release of LightGBM. Pass 'early_stopping()' callback via 'callbacks' argument instead.\n",
      "\n",
      "\n",
      "C:\\ProgramData\\anaconda3\\Lib\\site-packages\\lightgbm\\sklearn.py:736: UserWarning:\n",
      "\n",
      "'verbose' argument is deprecated and will be removed in a future release of LightGBM. Pass 'log_evaluation()' callback via 'callbacks' argument instead.\n",
      "\n",
      "\n",
      "C:\\ProgramData\\anaconda3\\Lib\\site-packages\\lightgbm\\sklearn.py:726: UserWarning:\n",
      "\n",
      "'early_stopping_rounds' argument is deprecated and will be removed in a future release of LightGBM. Pass 'early_stopping()' callback via 'callbacks' argument instead.\n",
      "\n",
      "\n",
      "C:\\ProgramData\\anaconda3\\Lib\\site-packages\\lightgbm\\sklearn.py:736: UserWarning:\n",
      "\n",
      "'verbose' argument is deprecated and will be removed in a future release of LightGBM. Pass 'log_evaluation()' callback via 'callbacks' argument instead.\n",
      "\n",
      "\n"
     ]
    },
    {
     "name": "stdout",
     "output_type": "stream",
     "text": [
      " 74%|██████████████████████████████████▊            | 37/50 [00:27<00:08,  1.46trial/s, best loss: -0.9691490975739979]"
     ]
    },
    {
     "name": "stderr",
     "output_type": "stream",
     "text": [
      "C:\\ProgramData\\anaconda3\\Lib\\site-packages\\lightgbm\\sklearn.py:726: UserWarning:\n",
      "\n",
      "'early_stopping_rounds' argument is deprecated and will be removed in a future release of LightGBM. Pass 'early_stopping()' callback via 'callbacks' argument instead.\n",
      "\n",
      "\n",
      "C:\\ProgramData\\anaconda3\\Lib\\site-packages\\lightgbm\\sklearn.py:736: UserWarning:\n",
      "\n",
      "'verbose' argument is deprecated and will be removed in a future release of LightGBM. Pass 'log_evaluation()' callback via 'callbacks' argument instead.\n",
      "\n",
      "\n",
      "C:\\ProgramData\\anaconda3\\Lib\\site-packages\\lightgbm\\sklearn.py:726: UserWarning:\n",
      "\n",
      "'early_stopping_rounds' argument is deprecated and will be removed in a future release of LightGBM. Pass 'early_stopping()' callback via 'callbacks' argument instead.\n",
      "\n",
      "\n",
      "C:\\ProgramData\\anaconda3\\Lib\\site-packages\\lightgbm\\sklearn.py:736: UserWarning:\n",
      "\n",
      "'verbose' argument is deprecated and will be removed in a future release of LightGBM. Pass 'log_evaluation()' callback via 'callbacks' argument instead.\n",
      "\n",
      "\n",
      "C:\\ProgramData\\anaconda3\\Lib\\site-packages\\lightgbm\\sklearn.py:726: UserWarning:\n",
      "\n",
      "'early_stopping_rounds' argument is deprecated and will be removed in a future release of LightGBM. Pass 'early_stopping()' callback via 'callbacks' argument instead.\n",
      "\n",
      "\n",
      "C:\\ProgramData\\anaconda3\\Lib\\site-packages\\lightgbm\\sklearn.py:736: UserWarning:\n",
      "\n",
      "'verbose' argument is deprecated and will be removed in a future release of LightGBM. Pass 'log_evaluation()' callback via 'callbacks' argument instead.\n",
      "\n",
      "\n",
      "C:\\ProgramData\\anaconda3\\Lib\\site-packages\\lightgbm\\sklearn.py:726: UserWarning:\n",
      "\n",
      "'early_stopping_rounds' argument is deprecated and will be removed in a future release of LightGBM. Pass 'early_stopping()' callback via 'callbacks' argument instead.\n",
      "\n",
      "\n",
      "C:\\ProgramData\\anaconda3\\Lib\\site-packages\\lightgbm\\sklearn.py:736: UserWarning:\n",
      "\n",
      "'verbose' argument is deprecated and will be removed in a future release of LightGBM. Pass 'log_evaluation()' callback via 'callbacks' argument instead.\n",
      "\n",
      "\n"
     ]
    },
    {
     "name": "stdout",
     "output_type": "stream",
     "text": [
      " 76%|███████████████████████████████████▋           | 38/50 [00:28<00:07,  1.58trial/s, best loss: -0.9691490975739979]"
     ]
    },
    {
     "name": "stderr",
     "output_type": "stream",
     "text": [
      "C:\\ProgramData\\anaconda3\\Lib\\site-packages\\lightgbm\\sklearn.py:726: UserWarning:\n",
      "\n",
      "'early_stopping_rounds' argument is deprecated and will be removed in a future release of LightGBM. Pass 'early_stopping()' callback via 'callbacks' argument instead.\n",
      "\n",
      "\n",
      "C:\\ProgramData\\anaconda3\\Lib\\site-packages\\lightgbm\\sklearn.py:736: UserWarning:\n",
      "\n",
      "'verbose' argument is deprecated and will be removed in a future release of LightGBM. Pass 'log_evaluation()' callback via 'callbacks' argument instead.\n",
      "\n",
      "\n",
      "C:\\ProgramData\\anaconda3\\Lib\\site-packages\\lightgbm\\sklearn.py:726: UserWarning:\n",
      "\n",
      "'early_stopping_rounds' argument is deprecated and will be removed in a future release of LightGBM. Pass 'early_stopping()' callback via 'callbacks' argument instead.\n",
      "\n",
      "\n",
      "C:\\ProgramData\\anaconda3\\Lib\\site-packages\\lightgbm\\sklearn.py:736: UserWarning:\n",
      "\n",
      "'verbose' argument is deprecated and will be removed in a future release of LightGBM. Pass 'log_evaluation()' callback via 'callbacks' argument instead.\n",
      "\n",
      "\n"
     ]
    },
    {
     "name": "stdout",
     "output_type": "stream",
     "text": [
      " 78%|████████████████████████████████████▋          | 39/50 [00:28<00:06,  1.72trial/s, best loss: -0.9691490975739979]"
     ]
    },
    {
     "name": "stderr",
     "output_type": "stream",
     "text": [
      "C:\\ProgramData\\anaconda3\\Lib\\site-packages\\lightgbm\\sklearn.py:726: UserWarning:\n",
      "\n",
      "'early_stopping_rounds' argument is deprecated and will be removed in a future release of LightGBM. Pass 'early_stopping()' callback via 'callbacks' argument instead.\n",
      "\n",
      "\n",
      "C:\\ProgramData\\anaconda3\\Lib\\site-packages\\lightgbm\\sklearn.py:736: UserWarning:\n",
      "\n",
      "'verbose' argument is deprecated and will be removed in a future release of LightGBM. Pass 'log_evaluation()' callback via 'callbacks' argument instead.\n",
      "\n",
      "\n",
      "C:\\ProgramData\\anaconda3\\Lib\\site-packages\\lightgbm\\sklearn.py:726: UserWarning:\n",
      "\n",
      "'early_stopping_rounds' argument is deprecated and will be removed in a future release of LightGBM. Pass 'early_stopping()' callback via 'callbacks' argument instead.\n",
      "\n",
      "\n",
      "C:\\ProgramData\\anaconda3\\Lib\\site-packages\\lightgbm\\sklearn.py:736: UserWarning:\n",
      "\n",
      "'verbose' argument is deprecated and will be removed in a future release of LightGBM. Pass 'log_evaluation()' callback via 'callbacks' argument instead.\n",
      "\n",
      "\n",
      "C:\\ProgramData\\anaconda3\\Lib\\site-packages\\lightgbm\\sklearn.py:726: UserWarning:\n",
      "\n",
      "'early_stopping_rounds' argument is deprecated and will be removed in a future release of LightGBM. Pass 'early_stopping()' callback via 'callbacks' argument instead.\n",
      "\n",
      "\n",
      "C:\\ProgramData\\anaconda3\\Lib\\site-packages\\lightgbm\\sklearn.py:736: UserWarning:\n",
      "\n",
      "'verbose' argument is deprecated and will be removed in a future release of LightGBM. Pass 'log_evaluation()' callback via 'callbacks' argument instead.\n",
      "\n",
      "\n",
      "C:\\ProgramData\\anaconda3\\Lib\\site-packages\\lightgbm\\sklearn.py:726: UserWarning:\n",
      "\n",
      "'early_stopping_rounds' argument is deprecated and will be removed in a future release of LightGBM. Pass 'early_stopping()' callback via 'callbacks' argument instead.\n",
      "\n",
      "\n",
      "C:\\ProgramData\\anaconda3\\Lib\\site-packages\\lightgbm\\sklearn.py:736: UserWarning:\n",
      "\n",
      "'verbose' argument is deprecated and will be removed in a future release of LightGBM. Pass 'log_evaluation()' callback via 'callbacks' argument instead.\n",
      "\n",
      "\n"
     ]
    },
    {
     "name": "stdout",
     "output_type": "stream",
     "text": [
      " 80%|█████████████████████████████████████▌         | 40/50 [00:29<00:06,  1.53trial/s, best loss: -0.9691490975739979]"
     ]
    },
    {
     "name": "stderr",
     "output_type": "stream",
     "text": [
      "C:\\ProgramData\\anaconda3\\Lib\\site-packages\\lightgbm\\sklearn.py:726: UserWarning:\n",
      "\n",
      "'early_stopping_rounds' argument is deprecated and will be removed in a future release of LightGBM. Pass 'early_stopping()' callback via 'callbacks' argument instead.\n",
      "\n",
      "\n",
      "C:\\ProgramData\\anaconda3\\Lib\\site-packages\\lightgbm\\sklearn.py:736: UserWarning:\n",
      "\n",
      "'verbose' argument is deprecated and will be removed in a future release of LightGBM. Pass 'log_evaluation()' callback via 'callbacks' argument instead.\n",
      "\n",
      "\n",
      "C:\\ProgramData\\anaconda3\\Lib\\site-packages\\lightgbm\\sklearn.py:726: UserWarning:\n",
      "\n",
      "'early_stopping_rounds' argument is deprecated and will be removed in a future release of LightGBM. Pass 'early_stopping()' callback via 'callbacks' argument instead.\n",
      "\n",
      "\n",
      "C:\\ProgramData\\anaconda3\\Lib\\site-packages\\lightgbm\\sklearn.py:736: UserWarning:\n",
      "\n",
      "'verbose' argument is deprecated and will be removed in a future release of LightGBM. Pass 'log_evaluation()' callback via 'callbacks' argument instead.\n",
      "\n",
      "\n",
      "C:\\ProgramData\\anaconda3\\Lib\\site-packages\\lightgbm\\sklearn.py:726: UserWarning:\n",
      "\n",
      "'early_stopping_rounds' argument is deprecated and will be removed in a future release of LightGBM. Pass 'early_stopping()' callback via 'callbacks' argument instead.\n",
      "\n",
      "\n",
      "C:\\ProgramData\\anaconda3\\Lib\\site-packages\\lightgbm\\sklearn.py:736: UserWarning:\n",
      "\n",
      "'verbose' argument is deprecated and will be removed in a future release of LightGBM. Pass 'log_evaluation()' callback via 'callbacks' argument instead.\n",
      "\n",
      "\n"
     ]
    },
    {
     "name": "stdout",
     "output_type": "stream",
     "text": [
      " 82%|██████████████████████████████████████▌        | 41/50 [00:30<00:07,  1.28trial/s, best loss: -0.9691490975739979]"
     ]
    },
    {
     "name": "stderr",
     "output_type": "stream",
     "text": [
      "C:\\ProgramData\\anaconda3\\Lib\\site-packages\\lightgbm\\sklearn.py:726: UserWarning:\n",
      "\n",
      "'early_stopping_rounds' argument is deprecated and will be removed in a future release of LightGBM. Pass 'early_stopping()' callback via 'callbacks' argument instead.\n",
      "\n",
      "\n",
      "C:\\ProgramData\\anaconda3\\Lib\\site-packages\\lightgbm\\sklearn.py:736: UserWarning:\n",
      "\n",
      "'verbose' argument is deprecated and will be removed in a future release of LightGBM. Pass 'log_evaluation()' callback via 'callbacks' argument instead.\n",
      "\n",
      "\n",
      "C:\\ProgramData\\anaconda3\\Lib\\site-packages\\lightgbm\\sklearn.py:726: UserWarning:\n",
      "\n",
      "'early_stopping_rounds' argument is deprecated and will be removed in a future release of LightGBM. Pass 'early_stopping()' callback via 'callbacks' argument instead.\n",
      "\n",
      "\n",
      "C:\\ProgramData\\anaconda3\\Lib\\site-packages\\lightgbm\\sklearn.py:736: UserWarning:\n",
      "\n",
      "'verbose' argument is deprecated and will be removed in a future release of LightGBM. Pass 'log_evaluation()' callback via 'callbacks' argument instead.\n",
      "\n",
      "\n",
      "C:\\ProgramData\\anaconda3\\Lib\\site-packages\\lightgbm\\sklearn.py:726: UserWarning:\n",
      "\n",
      "'early_stopping_rounds' argument is deprecated and will be removed in a future release of LightGBM. Pass 'early_stopping()' callback via 'callbacks' argument instead.\n",
      "\n",
      "\n",
      "C:\\ProgramData\\anaconda3\\Lib\\site-packages\\lightgbm\\sklearn.py:736: UserWarning:\n",
      "\n",
      "'verbose' argument is deprecated and will be removed in a future release of LightGBM. Pass 'log_evaluation()' callback via 'callbacks' argument instead.\n",
      "\n",
      "\n"
     ]
    },
    {
     "name": "stdout",
     "output_type": "stream",
     "text": [
      " 84%|███████████████████████████████████████▍       | 42/50 [00:31<00:05,  1.39trial/s, best loss: -0.9691490975739979]"
     ]
    },
    {
     "name": "stderr",
     "output_type": "stream",
     "text": [
      "C:\\ProgramData\\anaconda3\\Lib\\site-packages\\lightgbm\\sklearn.py:726: UserWarning:\n",
      "\n",
      "'early_stopping_rounds' argument is deprecated and will be removed in a future release of LightGBM. Pass 'early_stopping()' callback via 'callbacks' argument instead.\n",
      "\n",
      "\n",
      "C:\\ProgramData\\anaconda3\\Lib\\site-packages\\lightgbm\\sklearn.py:736: UserWarning:\n",
      "\n",
      "'verbose' argument is deprecated and will be removed in a future release of LightGBM. Pass 'log_evaluation()' callback via 'callbacks' argument instead.\n",
      "\n",
      "\n",
      "C:\\ProgramData\\anaconda3\\Lib\\site-packages\\lightgbm\\sklearn.py:726: UserWarning:\n",
      "\n",
      "'early_stopping_rounds' argument is deprecated and will be removed in a future release of LightGBM. Pass 'early_stopping()' callback via 'callbacks' argument instead.\n",
      "\n",
      "\n",
      "C:\\ProgramData\\anaconda3\\Lib\\site-packages\\lightgbm\\sklearn.py:736: UserWarning:\n",
      "\n",
      "'verbose' argument is deprecated and will be removed in a future release of LightGBM. Pass 'log_evaluation()' callback via 'callbacks' argument instead.\n",
      "\n",
      "\n"
     ]
    },
    {
     "name": "stdout",
     "output_type": "stream",
     "text": [
      " 86%|████████████████████████████████████████▍      | 43/50 [00:31<00:04,  1.56trial/s, best loss: -0.9691490975739979]"
     ]
    },
    {
     "name": "stderr",
     "output_type": "stream",
     "text": [
      "C:\\ProgramData\\anaconda3\\Lib\\site-packages\\lightgbm\\sklearn.py:726: UserWarning:\n",
      "\n",
      "'early_stopping_rounds' argument is deprecated and will be removed in a future release of LightGBM. Pass 'early_stopping()' callback via 'callbacks' argument instead.\n",
      "\n",
      "\n",
      "C:\\ProgramData\\anaconda3\\Lib\\site-packages\\lightgbm\\sklearn.py:736: UserWarning:\n",
      "\n",
      "'verbose' argument is deprecated and will be removed in a future release of LightGBM. Pass 'log_evaluation()' callback via 'callbacks' argument instead.\n",
      "\n",
      "\n",
      "C:\\ProgramData\\anaconda3\\Lib\\site-packages\\lightgbm\\sklearn.py:726: UserWarning:\n",
      "\n",
      "'early_stopping_rounds' argument is deprecated and will be removed in a future release of LightGBM. Pass 'early_stopping()' callback via 'callbacks' argument instead.\n",
      "\n",
      "\n",
      "C:\\ProgramData\\anaconda3\\Lib\\site-packages\\lightgbm\\sklearn.py:736: UserWarning:\n",
      "\n",
      "'verbose' argument is deprecated and will be removed in a future release of LightGBM. Pass 'log_evaluation()' callback via 'callbacks' argument instead.\n",
      "\n",
      "\n",
      "C:\\ProgramData\\anaconda3\\Lib\\site-packages\\lightgbm\\sklearn.py:726: UserWarning:\n",
      "\n",
      "'early_stopping_rounds' argument is deprecated and will be removed in a future release of LightGBM. Pass 'early_stopping()' callback via 'callbacks' argument instead.\n",
      "\n",
      "\n",
      "C:\\ProgramData\\anaconda3\\Lib\\site-packages\\lightgbm\\sklearn.py:736: UserWarning:\n",
      "\n",
      "'verbose' argument is deprecated and will be removed in a future release of LightGBM. Pass 'log_evaluation()' callback via 'callbacks' argument instead.\n",
      "\n",
      "\n",
      "C:\\ProgramData\\anaconda3\\Lib\\site-packages\\lightgbm\\sklearn.py:726: UserWarning:\n",
      "\n",
      "'early_stopping_rounds' argument is deprecated and will be removed in a future release of LightGBM. Pass 'early_stopping()' callback via 'callbacks' argument instead.\n",
      "\n",
      "\n",
      "C:\\ProgramData\\anaconda3\\Lib\\site-packages\\lightgbm\\sklearn.py:736: UserWarning:\n",
      "\n",
      "'verbose' argument is deprecated and will be removed in a future release of LightGBM. Pass 'log_evaluation()' callback via 'callbacks' argument instead.\n",
      "\n",
      "\n"
     ]
    },
    {
     "name": "stdout",
     "output_type": "stream",
     "text": [
      " 88%|█████████████████████████████████████████▎     | 44/50 [00:32<00:03,  1.81trial/s, best loss: -0.9691490975739979]"
     ]
    },
    {
     "name": "stderr",
     "output_type": "stream",
     "text": [
      "C:\\ProgramData\\anaconda3\\Lib\\site-packages\\lightgbm\\sklearn.py:726: UserWarning:\n",
      "\n",
      "'early_stopping_rounds' argument is deprecated and will be removed in a future release of LightGBM. Pass 'early_stopping()' callback via 'callbacks' argument instead.\n",
      "\n",
      "\n",
      "C:\\ProgramData\\anaconda3\\Lib\\site-packages\\lightgbm\\sklearn.py:736: UserWarning:\n",
      "\n",
      "'verbose' argument is deprecated and will be removed in a future release of LightGBM. Pass 'log_evaluation()' callback via 'callbacks' argument instead.\n",
      "\n",
      "\n",
      "C:\\ProgramData\\anaconda3\\Lib\\site-packages\\lightgbm\\sklearn.py:726: UserWarning:\n",
      "\n",
      "'early_stopping_rounds' argument is deprecated and will be removed in a future release of LightGBM. Pass 'early_stopping()' callback via 'callbacks' argument instead.\n",
      "\n",
      "\n",
      "C:\\ProgramData\\anaconda3\\Lib\\site-packages\\lightgbm\\sklearn.py:736: UserWarning:\n",
      "\n",
      "'verbose' argument is deprecated and will be removed in a future release of LightGBM. Pass 'log_evaluation()' callback via 'callbacks' argument instead.\n",
      "\n",
      "\n",
      "C:\\ProgramData\\anaconda3\\Lib\\site-packages\\lightgbm\\sklearn.py:726: UserWarning:\n",
      "\n",
      "'early_stopping_rounds' argument is deprecated and will be removed in a future release of LightGBM. Pass 'early_stopping()' callback via 'callbacks' argument instead.\n",
      "\n",
      "\n",
      "C:\\ProgramData\\anaconda3\\Lib\\site-packages\\lightgbm\\sklearn.py:736: UserWarning:\n",
      "\n",
      "'verbose' argument is deprecated and will be removed in a future release of LightGBM. Pass 'log_evaluation()' callback via 'callbacks' argument instead.\n",
      "\n",
      "\n"
     ]
    },
    {
     "name": "stdout",
     "output_type": "stream",
     "text": [
      " 90%|██████████████████████████████████████████▎    | 45/50 [00:32<00:03,  1.60trial/s, best loss: -0.9691490975739979]"
     ]
    },
    {
     "name": "stderr",
     "output_type": "stream",
     "text": [
      "C:\\ProgramData\\anaconda3\\Lib\\site-packages\\lightgbm\\sklearn.py:726: UserWarning:\n",
      "\n",
      "'early_stopping_rounds' argument is deprecated and will be removed in a future release of LightGBM. Pass 'early_stopping()' callback via 'callbacks' argument instead.\n",
      "\n",
      "\n",
      "C:\\ProgramData\\anaconda3\\Lib\\site-packages\\lightgbm\\sklearn.py:736: UserWarning:\n",
      "\n",
      "'verbose' argument is deprecated and will be removed in a future release of LightGBM. Pass 'log_evaluation()' callback via 'callbacks' argument instead.\n",
      "\n",
      "\n",
      "C:\\ProgramData\\anaconda3\\Lib\\site-packages\\lightgbm\\sklearn.py:726: UserWarning:\n",
      "\n",
      "'early_stopping_rounds' argument is deprecated and will be removed in a future release of LightGBM. Pass 'early_stopping()' callback via 'callbacks' argument instead.\n",
      "\n",
      "\n",
      "C:\\ProgramData\\anaconda3\\Lib\\site-packages\\lightgbm\\sklearn.py:736: UserWarning:\n",
      "\n",
      "'verbose' argument is deprecated and will be removed in a future release of LightGBM. Pass 'log_evaluation()' callback via 'callbacks' argument instead.\n",
      "\n",
      "\n"
     ]
    },
    {
     "name": "stdout",
     "output_type": "stream",
     "text": [
      " 92%|███████████████████████████████████████████▏   | 46/50 [00:33<00:02,  1.60trial/s, best loss: -0.9691490975739979]"
     ]
    },
    {
     "name": "stderr",
     "output_type": "stream",
     "text": [
      "C:\\ProgramData\\anaconda3\\Lib\\site-packages\\lightgbm\\sklearn.py:726: UserWarning:\n",
      "\n",
      "'early_stopping_rounds' argument is deprecated and will be removed in a future release of LightGBM. Pass 'early_stopping()' callback via 'callbacks' argument instead.\n",
      "\n",
      "\n",
      "C:\\ProgramData\\anaconda3\\Lib\\site-packages\\lightgbm\\sklearn.py:736: UserWarning:\n",
      "\n",
      "'verbose' argument is deprecated and will be removed in a future release of LightGBM. Pass 'log_evaluation()' callback via 'callbacks' argument instead.\n",
      "\n",
      "\n",
      "C:\\ProgramData\\anaconda3\\Lib\\site-packages\\lightgbm\\sklearn.py:726: UserWarning:\n",
      "\n",
      "'early_stopping_rounds' argument is deprecated and will be removed in a future release of LightGBM. Pass 'early_stopping()' callback via 'callbacks' argument instead.\n",
      "\n",
      "\n",
      "C:\\ProgramData\\anaconda3\\Lib\\site-packages\\lightgbm\\sklearn.py:736: UserWarning:\n",
      "\n",
      "'verbose' argument is deprecated and will be removed in a future release of LightGBM. Pass 'log_evaluation()' callback via 'callbacks' argument instead.\n",
      "\n",
      "\n",
      "C:\\ProgramData\\anaconda3\\Lib\\site-packages\\lightgbm\\sklearn.py:726: UserWarning:\n",
      "\n",
      "'early_stopping_rounds' argument is deprecated and will be removed in a future release of LightGBM. Pass 'early_stopping()' callback via 'callbacks' argument instead.\n",
      "\n",
      "\n",
      "C:\\ProgramData\\anaconda3\\Lib\\site-packages\\lightgbm\\sklearn.py:736: UserWarning:\n",
      "\n",
      "'verbose' argument is deprecated and will be removed in a future release of LightGBM. Pass 'log_evaluation()' callback via 'callbacks' argument instead.\n",
      "\n",
      "\n",
      "C:\\ProgramData\\anaconda3\\Lib\\site-packages\\lightgbm\\sklearn.py:726: UserWarning:\n",
      "\n",
      "'early_stopping_rounds' argument is deprecated and will be removed in a future release of LightGBM. Pass 'early_stopping()' callback via 'callbacks' argument instead.\n",
      "\n",
      "\n",
      "C:\\ProgramData\\anaconda3\\Lib\\site-packages\\lightgbm\\sklearn.py:736: UserWarning:\n",
      "\n",
      "'verbose' argument is deprecated and will be removed in a future release of LightGBM. Pass 'log_evaluation()' callback via 'callbacks' argument instead.\n",
      "\n",
      "\n"
     ]
    },
    {
     "name": "stdout",
     "output_type": "stream",
     "text": [
      " 94%|████████████████████████████████████████████▏  | 47/50 [00:33<00:01,  1.86trial/s, best loss: -0.9691490975739979]"
     ]
    },
    {
     "name": "stderr",
     "output_type": "stream",
     "text": [
      "C:\\ProgramData\\anaconda3\\Lib\\site-packages\\lightgbm\\sklearn.py:726: UserWarning:\n",
      "\n",
      "'early_stopping_rounds' argument is deprecated and will be removed in a future release of LightGBM. Pass 'early_stopping()' callback via 'callbacks' argument instead.\n",
      "\n",
      "\n",
      "C:\\ProgramData\\anaconda3\\Lib\\site-packages\\lightgbm\\sklearn.py:736: UserWarning:\n",
      "\n",
      "'verbose' argument is deprecated and will be removed in a future release of LightGBM. Pass 'log_evaluation()' callback via 'callbacks' argument instead.\n",
      "\n",
      "\n",
      "C:\\ProgramData\\anaconda3\\Lib\\site-packages\\lightgbm\\sklearn.py:726: UserWarning:\n",
      "\n",
      "'early_stopping_rounds' argument is deprecated and will be removed in a future release of LightGBM. Pass 'early_stopping()' callback via 'callbacks' argument instead.\n",
      "\n",
      "\n",
      "C:\\ProgramData\\anaconda3\\Lib\\site-packages\\lightgbm\\sklearn.py:736: UserWarning:\n",
      "\n",
      "'verbose' argument is deprecated and will be removed in a future release of LightGBM. Pass 'log_evaluation()' callback via 'callbacks' argument instead.\n",
      "\n",
      "\n"
     ]
    },
    {
     "name": "stdout",
     "output_type": "stream",
     "text": [
      " 96%|█████████████████████████████████████████████  | 48/50 [00:34<00:01,  1.91trial/s, best loss: -0.9691490975739979]"
     ]
    },
    {
     "name": "stderr",
     "output_type": "stream",
     "text": [
      "C:\\ProgramData\\anaconda3\\Lib\\site-packages\\lightgbm\\sklearn.py:726: UserWarning:\n",
      "\n",
      "'early_stopping_rounds' argument is deprecated and will be removed in a future release of LightGBM. Pass 'early_stopping()' callback via 'callbacks' argument instead.\n",
      "\n",
      "\n",
      "C:\\ProgramData\\anaconda3\\Lib\\site-packages\\lightgbm\\sklearn.py:736: UserWarning:\n",
      "\n",
      "'verbose' argument is deprecated and will be removed in a future release of LightGBM. Pass 'log_evaluation()' callback via 'callbacks' argument instead.\n",
      "\n",
      "\n",
      "C:\\ProgramData\\anaconda3\\Lib\\site-packages\\lightgbm\\sklearn.py:726: UserWarning:\n",
      "\n",
      "'early_stopping_rounds' argument is deprecated and will be removed in a future release of LightGBM. Pass 'early_stopping()' callback via 'callbacks' argument instead.\n",
      "\n",
      "\n",
      "C:\\ProgramData\\anaconda3\\Lib\\site-packages\\lightgbm\\sklearn.py:736: UserWarning:\n",
      "\n",
      "'verbose' argument is deprecated and will be removed in a future release of LightGBM. Pass 'log_evaluation()' callback via 'callbacks' argument instead.\n",
      "\n",
      "\n",
      "C:\\ProgramData\\anaconda3\\Lib\\site-packages\\lightgbm\\sklearn.py:726: UserWarning:\n",
      "\n",
      "'early_stopping_rounds' argument is deprecated and will be removed in a future release of LightGBM. Pass 'early_stopping()' callback via 'callbacks' argument instead.\n",
      "\n",
      "\n",
      "C:\\ProgramData\\anaconda3\\Lib\\site-packages\\lightgbm\\sklearn.py:736: UserWarning:\n",
      "\n",
      "'verbose' argument is deprecated and will be removed in a future release of LightGBM. Pass 'log_evaluation()' callback via 'callbacks' argument instead.\n",
      "\n",
      "\n",
      "C:\\ProgramData\\anaconda3\\Lib\\site-packages\\lightgbm\\sklearn.py:726: UserWarning:\n",
      "\n",
      "'early_stopping_rounds' argument is deprecated and will be removed in a future release of LightGBM. Pass 'early_stopping()' callback via 'callbacks' argument instead.\n",
      "\n",
      "\n",
      "C:\\ProgramData\\anaconda3\\Lib\\site-packages\\lightgbm\\sklearn.py:736: UserWarning:\n",
      "\n",
      "'verbose' argument is deprecated and will be removed in a future release of LightGBM. Pass 'log_evaluation()' callback via 'callbacks' argument instead.\n",
      "\n",
      "\n"
     ]
    },
    {
     "name": "stdout",
     "output_type": "stream",
     "text": [
      " 98%|██████████████████████████████████████████████ | 49/50 [00:35<00:00,  1.59trial/s, best loss: -0.9691490975739979]"
     ]
    },
    {
     "name": "stderr",
     "output_type": "stream",
     "text": [
      "C:\\ProgramData\\anaconda3\\Lib\\site-packages\\lightgbm\\sklearn.py:726: UserWarning:\n",
      "\n",
      "'early_stopping_rounds' argument is deprecated and will be removed in a future release of LightGBM. Pass 'early_stopping()' callback via 'callbacks' argument instead.\n",
      "\n",
      "\n",
      "C:\\ProgramData\\anaconda3\\Lib\\site-packages\\lightgbm\\sklearn.py:736: UserWarning:\n",
      "\n",
      "'verbose' argument is deprecated and will be removed in a future release of LightGBM. Pass 'log_evaluation()' callback via 'callbacks' argument instead.\n",
      "\n",
      "\n",
      "C:\\ProgramData\\anaconda3\\Lib\\site-packages\\lightgbm\\sklearn.py:726: UserWarning:\n",
      "\n",
      "'early_stopping_rounds' argument is deprecated and will be removed in a future release of LightGBM. Pass 'early_stopping()' callback via 'callbacks' argument instead.\n",
      "\n",
      "\n",
      "C:\\ProgramData\\anaconda3\\Lib\\site-packages\\lightgbm\\sklearn.py:736: UserWarning:\n",
      "\n",
      "'verbose' argument is deprecated and will be removed in a future release of LightGBM. Pass 'log_evaluation()' callback via 'callbacks' argument instead.\n",
      "\n",
      "\n"
     ]
    },
    {
     "name": "stdout",
     "output_type": "stream",
     "text": [
      "100%|███████████████████████████████████████████████| 50/50 [00:35<00:00,  1.39trial/s, best loss: -0.9691490975739979]\n",
      "최적 하이퍼파라미터: {'learning_rate': 0.18468896974663007, 'max_depth': 117.0, 'min_child_samples': 60.0, 'num_leaves': 46.0, 'subsample': 0.9445328406322729}\n"
     ]
    },
    {
     "name": "stderr",
     "output_type": "stream",
     "text": [
      "C:\\ProgramData\\anaconda3\\Lib\\site-packages\\lightgbm\\sklearn.py:726: UserWarning:\n",
      "\n",
      "'early_stopping_rounds' argument is deprecated and will be removed in a future release of LightGBM. Pass 'early_stopping()' callback via 'callbacks' argument instead.\n",
      "\n",
      "\n",
      "C:\\ProgramData\\anaconda3\\Lib\\site-packages\\lightgbm\\sklearn.py:736: UserWarning:\n",
      "\n",
      "'verbose' argument is deprecated and will be removed in a future release of LightGBM. Pass 'log_evaluation()' callback via 'callbacks' argument instead.\n",
      "\n",
      "\n"
     ]
    }
   ],
   "source": [
    "from hyperopt import hp, fmin, tpe, Trials\n",
    "from lightgbm import LGBMClassifier\n",
    "from sklearn.model_selection import KFold\n",
    "from sklearn.metrics import roc_auc_score\n",
    "import numpy as np\n",
    "\n",
    "# 1. Search space\n",
    "lgbm_search_space = {\n",
    "    'num_leaves': hp.quniform('num_leaves', 32, 64, 1),\n",
    "    'max_depth': hp.quniform('max_depth', 100, 160, 1),\n",
    "    'min_child_samples': hp.quniform('min_child_samples', 60, 100, 1),\n",
    "    'subsample': hp.uniform('subsample', 0.7, 1),\n",
    "    'learning_rate': hp.uniform('learning_rate', 0.01, 0.2)\n",
    "}\n",
    "\n",
    "# 2. Set Objective Function\n",
    "def objective_func(search_space):\n",
    "    lgbm_clf = LGBMClassifier(\n",
    "        n_estimators=100,\n",
    "        num_leaves=int(search_space['num_leaves']),\n",
    "        max_depth=int(search_space['max_depth']),\n",
    "        min_child_samples=int(search_space['min_child_samples']),\n",
    "        subsample=search_space['subsample'],\n",
    "        learning_rate=search_space['learning_rate']\n",
    "    )\n",
    "\n",
    "    roc_auc_list = []\n",
    "\n",
    "    kf = KFold(n_splits=3, shuffle=True, random_state=42)\n",
    "    for tr_idx, val_idx in kf.split(X_train_resampled):\n",
    "        X_tr, X_val_k = X_train_resampled[tr_idx], X_train_resampled[val_idx]\n",
    "        y_tr, y_val_k = y_train_resampled[tr_idx], y_train_resampled[val_idx]\n",
    "\n",
    "        lgbm_clf.fit(\n",
    "            X_tr, y_tr,\n",
    "            early_stopping_rounds=30,\n",
    "            eval_metric=\"auc\",\n",
    "            eval_set=[(X_val_k, y_val_k)],\n",
    "            verbose=False\n",
    "        )\n",
    "\n",
    "        probas = lgbm_clf.predict_proba(X_val_k)[:, 1]\n",
    "        score = roc_auc_score(y_val_k, probas)\n",
    "        roc_auc_list.append(score)\n",
    "\n",
    "    return -1 * np.mean(roc_auc_list)\n",
    "\n",
    "# 3. Optimization\n",
    "trials = Trials()\n",
    "best = fmin(\n",
    "    fn=objective_func,\n",
    "    space=lgbm_search_space,\n",
    "    algo=tpe.suggest,\n",
    "    max_evals=50,\n",
    "    trials=trials,\n",
    "    rstate=np.random.default_rng(seed=30)\n",
    ")\n",
    "\n",
    "print(\"최적 하이퍼파라미터:\", best)\n",
    "\n",
    "# 100%|███████████████████████████████████████████████| 50/50 [00:35<00:00,  1.39trial/s, best loss: -0.9691490975739979]\n",
    "# 최적 하이퍼파라미터: {'learning_rate': 0.18468896974663007, 'max_depth': 117.0, 'min_child_samples': 60.0, 'num_leaves': 46.0, 'subsample': 0.9445328406322729}"
   ]
  },
  {
   "cell_type": "code",
   "execution_count": 237,
   "id": "e5cbbde7-ab0d-4b5b-88d5-dbaeb70f1c11",
   "metadata": {},
   "outputs": [
    {
     "name": "stdout",
     "output_type": "stream",
     "text": [
      "Accuracy of XGB : 0.9056\n",
      "[[ 77  10]\n",
      " [ 12 134]]\n",
      "              precision    recall  f1-score   support\n",
      "\n",
      "           0       0.87      0.89      0.88        87\n",
      "           1       0.93      0.92      0.92       146\n",
      "\n",
      "    accuracy                           0.91       233\n",
      "   macro avg       0.90      0.90      0.90       233\n",
      "weighted avg       0.91      0.91      0.91       233\n",
      "\n",
      "0.9548102660998268\n"
     ]
    }
   ],
   "source": [
    "# 1. Fit with best values\n",
    "final_lgbm = LGBMClassifier(\n",
    "    n_estimators=300,\n",
    "    learning_rate=best['learning_rate'],\n",
    "    max_depth=int(best['max_depth']),\n",
    "    num_leaves=int(best['num_leaves']),\n",
    "    min_child_samples=int(best['min_child_samples']),\n",
    "    subsample=best['subsample'],\n",
    "    random_state=42\n",
    ")\n",
    "final_lgbm.fit(X_train_resampled, y_train_resampled)\n",
    "\n",
    "# 2. Predict\n",
    "pred = final_lgbm.predict(X_test_scaled)\n",
    "probs = final_lgbm.predict_proba(X_test_scaled)[:, 1]  # 확률값 (ROC-AUC 등 사용 시)\n",
    "\n",
    "# 3. Evaluate\n",
    "accuracy = accuracy_score(y_test, pred)\n",
    "print(\"Accuracy of XGB : {:.4f}\".format(accuracy))\n",
    "print(confusion_matrix(y_test, pred))\n",
    "print(classification_report(y_test, pred))\n",
    "print(roc_auc_score(y_test, probs))"
   ]
  },
  {
   "cell_type": "code",
   "execution_count": 241,
   "id": "1c7adc87-6248-43db-bbc2-820caa91bfbf",
   "metadata": {},
   "outputs": [
    {
     "name": "stdout",
     "output_type": "stream",
     "text": [
      "{'C': 1, 'penalty': 'l1', 'solver': 'liblinear'} 0.9103088898418515\n"
     ]
    },
    {
     "name": "stderr",
     "output_type": "stream",
     "text": [
      "C:\\ProgramData\\anaconda3\\Lib\\site-packages\\sklearn\\model_selection\\_validation.py:540: FitFailedWarning:\n",
      "\n",
      "\n",
      "15 fits failed out of a total of 60.\n",
      "The score on these train-test partitions for these parameters will be set to nan.\n",
      "If these failures are not expected, you can try to debug them by setting error_score='raise'.\n",
      "\n",
      "Below are more details about the failures:\n",
      "--------------------------------------------------------------------------------\n",
      "15 fits failed with the following error:\n",
      "Traceback (most recent call last):\n",
      "  File \"C:\\ProgramData\\anaconda3\\Lib\\site-packages\\sklearn\\model_selection\\_validation.py\", line 888, in _fit_and_score\n",
      "    estimator.fit(X_train, y_train, **fit_params)\n",
      "  File \"C:\\ProgramData\\anaconda3\\Lib\\site-packages\\sklearn\\base.py\", line 1473, in wrapper\n",
      "    return fit_method(estimator, *args, **kwargs)\n",
      "           ^^^^^^^^^^^^^^^^^^^^^^^^^^^^^^^^^^^^^^\n",
      "  File \"C:\\ProgramData\\anaconda3\\Lib\\site-packages\\sklearn\\linear_model\\_logistic.py\", line 1194, in fit\n",
      "    solver = _check_solver(self.solver, self.penalty, self.dual)\n",
      "             ^^^^^^^^^^^^^^^^^^^^^^^^^^^^^^^^^^^^^^^^^^^^^^^^^^^\n",
      "  File \"C:\\ProgramData\\anaconda3\\Lib\\site-packages\\sklearn\\linear_model\\_logistic.py\", line 67, in _check_solver\n",
      "    raise ValueError(\n",
      "ValueError: Solver lbfgs supports only 'l2' or None penalties, got l1 penalty.\n",
      "\n",
      "\n",
      "C:\\ProgramData\\anaconda3\\Lib\\site-packages\\sklearn\\model_selection\\_search.py:1102: UserWarning:\n",
      "\n",
      "One or more of the test scores are non-finite: [0.81912336 0.86028485 0.77797487        nan 0.87647005 0.89708004\n",
      " 0.88236326        nan 0.90884046 0.90737203 0.91030889        nan\n",
      " 0.90589711 0.90589711 0.91030889        nan 0.90737203 0.9059036\n",
      " 0.90884696        nan]\n",
      "\n"
     ]
    }
   ],
   "source": [
    "# Logistic Regression with GridSearchCV\n",
    "from sklearn.linear_model import LogisticRegression\n",
    "from sklearn.model_selection import GridSearchCV\n",
    "\n",
    "params = {'solver' : ['liblinear', 'lbfgs'],\n",
    "          'penalty' : ['l2', 'l1'],\n",
    "          'C' : [0.01, 0.1, 1, 5, 10]}\n",
    "\n",
    "lr_clf = LogisticRegression()\n",
    "\n",
    "grid_clf = GridSearchCV(lr_clf, param_grid = params, scoring = 'accuracy', cv = 3)\n",
    "grid_clf.fit(X_train_resampled, y_train_resampled)\n",
    "print(grid_clf.best_params_, grid_clf.best_score_)"
   ]
  },
  {
   "cell_type": "code",
   "execution_count": 244,
   "id": "cf8ae01b-a5c5-44d4-8e2a-590b1bbdbbe0",
   "metadata": {},
   "outputs": [
    {
     "name": "stdout",
     "output_type": "stream",
     "text": [
      "Accuracy of LR : 0.9356\n",
      "[[ 86   1]\n",
      " [ 14 132]]\n",
      "              precision    recall  f1-score   support\n",
      "\n",
      "           0       0.86      0.99      0.92        87\n",
      "           1       0.99      0.90      0.95       146\n",
      "\n",
      "    accuracy                           0.94       233\n",
      "   macro avg       0.93      0.95      0.93       233\n",
      "weighted avg       0.94      0.94      0.94       233\n",
      "\n",
      "0.9641788694693749\n"
     ]
    }
   ],
   "source": [
    "from sklearn.linear_model import LogisticRegression\n",
    "\n",
    "# 1. Fit with best values from GridSearchCV\n",
    "final_lr = LogisticRegression(\n",
    "    solver=grid_clf.best_params_['solver'],\n",
    "    penalty=grid_clf.best_params_['penalty'],\n",
    "    C=grid_clf.best_params_['C']\n",
    ")\n",
    "final_lr.fit(X_train_resampled, y_train_resampled)\n",
    "\n",
    "# 2. Predict\n",
    "pred = final_lr.predict(X_test_scaled)\n",
    "probs = final_lr.predict_proba(X_test_scaled)[:, 1]\n",
    "\n",
    "# 3. Evaluate\n",
    "accuracy = accuracy_score(y_test, pred)\n",
    "print(\"Accuracy of LR : {:.4f}\".format(accuracy))\n",
    "print(confusion_matrix(y_test, pred))\n",
    "print(classification_report(y_test, pred))\n",
    "print(roc_auc_score(y_test, probs))\n"
   ]
  },
  {
   "cell_type": "code",
   "execution_count": null,
   "id": "d30552c6-a899-4911-80ba-17e1c948e5d8",
   "metadata": {},
   "outputs": [],
   "source": []
  }
 ],
 "metadata": {
  "kernelspec": {
   "display_name": "Python 3 (ipykernel)",
   "language": "python",
   "name": "python3"
  },
  "language_info": {
   "codemirror_mode": {
    "name": "ipython",
    "version": 3
   },
   "file_extension": ".py",
   "mimetype": "text/x-python",
   "name": "python",
   "nbconvert_exporter": "python",
   "pygments_lexer": "ipython3",
   "version": "3.12.7"
  }
 },
 "nbformat": 4,
 "nbformat_minor": 5
}
